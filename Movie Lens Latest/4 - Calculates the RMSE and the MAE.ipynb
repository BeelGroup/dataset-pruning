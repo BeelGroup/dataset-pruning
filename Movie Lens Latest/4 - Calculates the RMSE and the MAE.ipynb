{
 "cells": [
  {
   "cell_type": "markdown",
   "metadata": {},
   "source": [
    "# 4 - Calculates the RMSE and the MAE"
   ]
  },
  {
   "cell_type": "markdown",
   "metadata": {},
   "source": [
    "In that part we wil calculates the RMSE and the MAE, we will also register the prediction for each line of the dataset. Thereafter, we will use these predictions to calculates a lot of things"
   ]
  },
  {
   "cell_type": "markdown",
   "metadata": {},
   "source": [
    "### Importing library"
   ]
  },
  {
   "cell_type": "code",
   "execution_count": 1,
   "metadata": {},
   "outputs": [],
   "source": [
    "import pandas as pd\n",
    "import numpy as np\n",
    "from surprise import Dataset, evaluate, Reader, accuracy, Trainset\n",
    "from pathlib import Path"
   ]
  },
  {
   "cell_type": "code",
   "execution_count": 2,
   "metadata": {},
   "outputs": [],
   "source": [
    "from surprise import SVD\n",
    "from surprise import SVDpp\n",
    "from surprise import BaselineOnly\n",
    "from surprise import NMF\n",
    "from surprise import SlopeOne\n",
    "from surprise import CoClustering\n",
    "from surprise import NormalPredictor\n",
    "from surprise import KNNBasic\n",
    "from surprise import KNNWithMeans\n",
    "from surprise import KNNBaseline\n",
    "from surprise import KNNWithZScore"
   ]
  },
  {
   "cell_type": "markdown",
   "metadata": {},
   "source": [
    "the next block will be used for the predictions, we need each dataset and to make it easier we use a dictionary"
   ]
  },
  {
   "cell_type": "code",
   "execution_count": 3,
   "metadata": {},
   "outputs": [],
   "source": [
    "dicoDfTest={}\n",
    "for fold in range(10):\n",
    "    dicoDfTest[fold]=pd.read_parquet('dataCV/dfTest_CV'+str(fold)+'.gzip')"
   ]
  },
  {
   "cell_type": "markdown",
   "metadata": {},
   "source": [
    "This function return a list of testing file in the appropriate format for surprise in terms of the fold asking"
   ]
  },
  {
   "cell_type": "code",
   "execution_count": 4,
   "metadata": {},
   "outputs": [],
   "source": [
    "def listTestCV(fold) :    \n",
    "    testInte=list()\n",
    "    reader = Reader()\n",
    "    dfTest=pd.read_parquet('dataCV/dfTest_CV'+str(fold)+'.gzip')\n",
    "    arTest=dfTest.to_numpy()\n",
    "    data=Dataset.load_from_df(dfTest,reader) \n",
    "    testInte.append(data.build_full_trainset().build_testset())\n",
    "\n",
    "    df=pd.read_parquet('dataCV/dfInf20_CV'+str(fold)+'.gzip')\n",
    "    data=Dataset.load_from_df(df,reader) \n",
    "    testInte.append(data.build_full_trainset().build_testset())\n",
    "\n",
    "    df=pd.read_parquet('dataCV/dfSup20_CV'+str(fold)+'.gzip')\n",
    "    data=Dataset.load_from_df(df,reader) \n",
    "    testInte.append(data.build_full_trainset().build_testset())\n",
    "\n",
    "    for j in range(10):\n",
    "        my_file = Path(\"dataCV/df\"+inteName(j)+'_CV'+str(fold)+'.gzip')\n",
    "        df=pd.read_parquet(my_file)\n",
    "        data=Dataset.load_from_df(df,reader) \n",
    "        testInte.append(data.build_full_trainset().build_testset())\n",
    "    for j in range(10,51,5):\n",
    "        my_file = Path(\"dataCV/df\"+inteName(j)+'_CV'+str(fold)+'.gzip')\n",
    "        df=pd.read_parquet(my_file)\n",
    "        data=Dataset.load_from_df(df,reader) \n",
    "        testInte.append(data.build_full_trainset().build_testset()) \n",
    "    return testInte"
   ]
  },
  {
   "cell_type": "code",
   "execution_count": 5,
   "metadata": {},
   "outputs": [],
   "source": [
    "def inteName(i):\n",
    "    if i==0:\n",
    "        return \"1-9\"\n",
    "    elif i<10:\n",
    "        return str(int(i*10))+\"-\"+str(int(i*10+9))\n",
    "    elif i>=50:\n",
    "        return 'sup500'\n",
    "    else :\n",
    "        return str(int(i*10))+\"-\"+str(int(i*10+49))"
   ]
  },
  {
   "cell_type": "markdown",
   "metadata": {},
   "source": [
    "This function return training dataset in the appropriate format for surprise in terms of the fold asking"
   ]
  },
  {
   "cell_type": "code",
   "execution_count": 6,
   "metadata": {},
   "outputs": [],
   "source": [
    "def trainsetCV(fold):\n",
    "    dfTrain=pd.read_parquet('dataCV3/dfTrain_fold_'+str(fold)+'.gzip')\n",
    "    reader = Reader()\n",
    "    data=Dataset.load_from_df(dfTrain,reader)\n",
    "    train=data.build_full_trainset()\n",
    "    return train"
   ]
  },
  {
   "cell_type": "markdown",
   "metadata": {},
   "source": [
    "the three following bloc serve called algorithms more easily, it's an equivalent of the switch case in C++"
   ]
  },
  {
   "cell_type": "code",
   "execution_count": 7,
   "metadata": {},
   "outputs": [],
   "source": [
    "def algoSVD() :\n",
    "    algo=SVD()\n",
    "    return algo\n",
    "    \n",
    "def algoSVDpp() :\n",
    "    algo=SVDpp()\n",
    "    return algo\n",
    "\n",
    "def algoNMF() :\n",
    "    algo=NMF()\n",
    "    return algo\n",
    "\n",
    "def algoBaselineOnly() :\n",
    "    algo=BaselineOnly()\n",
    "    return algo\n",
    "\n",
    "def algoCoClustering() :\n",
    "    algo=CoClustering()\n",
    "    return algo\n",
    "\n",
    "def algoNormalPredictor() :\n",
    "    algo=NormalPredictor()\n",
    "    return algo\n",
    "\n",
    "def algoSlopeOne() :\n",
    "    algo=SlopeOne()\n",
    "    return algo\n",
    "\n",
    "def algoKNNBasic() :\n",
    "    algo=KNNBasic()\n",
    "    return algo\n",
    "\n",
    "def algoKNNWithMeans() :\n",
    "    algo=KNNWithMeans()\n",
    "    return algo\n",
    "\n",
    "def algoKNNBaseline() :\n",
    "    algo=KNNBaseline()\n",
    "    return algo\n",
    "\n",
    "def algoKNNWithZScore() :\n",
    "    algo=KNNWithZScore()\n",
    "    return algo"
   ]
  },
  {
   "cell_type": "code",
   "execution_count": 8,
   "metadata": {},
   "outputs": [],
   "source": [
    "algoChoice = {\"SVD\" : algoSVD,\n",
    "              \"SVDpp\" : algoSVDpp,\n",
    "              \"NMF\"  : algoNMF,\n",
    "              \"BaselineOnly\" : algoBaselineOnly,\n",
    "              \"CoClustering\" : algoCoClustering,\n",
    "              \"NormalPredictor\" : algoNormalPredictor,\n",
    "              \"SlopeOne\" : algoSlopeOne,\n",
    "              \"KNNBasic\" : algoKNNBasic,\n",
    "              \"KNNWithMeans\" : algoKNNWithMeans,\n",
    "              \"KNNBaseline\" : algoKNNBaseline,\n",
    "              \"KNNWithZScore\" : algoKNNWithZScore}"
   ]
  },
  {
   "cell_type": "code",
   "execution_count": 9,
   "metadata": {},
   "outputs": [],
   "source": [
    "algoListe=[\"BaselineOnly\", \"SVD\", \"NMF\", \"SlopeOne\", \n",
    "           \"CoClustering\", \"NormalPredictor\", \"SVDpp\",\n",
    "           \"KNNBasic\", \"KNNWithMeans\", \"KNNBaseline\", \"KNNWithZScore\"]"
   ]
  },
  {
   "cell_type": "markdown",
   "metadata": {},
   "source": [
    "this algorithm serve to add the RMSE and the MAE for each testing dataset in the list listTest, in function of the algorithm pass in parameter"
   ]
  },
  {
   "cell_type": "code",
   "execution_count": 10,
   "metadata": {},
   "outputs": [],
   "source": [
    "def addResult(algo,res,listTest,algoName):\n",
    "    rmse=list()\n",
    "    mae=list()\n",
    "    for i in listTest:\n",
    "        predictions = algo.test(i)\n",
    "        rmse.append(accuracy.rmse(predictions, verbose=False))\n",
    "        mae.append(accuracy.mae(predictions, verbose=False))\n",
    "    res[algoName]=rmse+mae"
   ]
  },
  {
   "cell_type": "markdown",
   "metadata": {},
   "source": [
    "this algorithm return a list of predictions, in function of the algorithm pass in parameter"
   ]
  },
  {
   "cell_type": "code",
   "execution_count": 11,
   "metadata": {},
   "outputs": [],
   "source": [
    "def listPredictions(ar,algo):\n",
    "    l=list()\n",
    "    t=len(ar)\n",
    "    for i in range(t):\n",
    "        l.append(algo.predict(ar[i,0],ar[i,1],verbose=False)[3])\n",
    "    return l"
   ]
  },
  {
   "cell_type": "code",
   "execution_count": 12,
   "metadata": {},
   "outputs": [],
   "source": [
    "results={} # it's the dictionary with al the results"
   ]
  },
  {
   "cell_type": "code",
   "execution_count": null,
   "metadata": {},
   "outputs": [
    {
     "name": "stdout",
     "output_type": "stream",
     "text": [
      "--==   BaselineOnly   ==--\n",
      "Fold :  0\n",
      "-- Train --\n",
      "Estimating biases using als...\n",
      "-- Test --\n",
      "Fold :  1\n",
      "-- Train --\n",
      "Estimating biases using als...\n",
      "-- Test --\n",
      "Fold :  2\n",
      "-- Train --\n",
      "Estimating biases using als...\n",
      "-- Test --\n",
      "Fold :  3\n",
      "-- Train --\n",
      "Estimating biases using als...\n",
      "-- Test --\n",
      "Fold :  4\n",
      "-- Train --\n",
      "Estimating biases using als...\n",
      "-- Test --\n",
      "Fold :  5\n",
      "-- Train --\n",
      "Estimating biases using als...\n",
      "-- Test --\n",
      "Fold :  6\n",
      "-- Train --\n",
      "Estimating biases using als...\n",
      "-- Test --\n",
      "Fold :  7\n",
      "-- Train --\n",
      "Estimating biases using als...\n",
      "-- Test --\n",
      "Fold :  8\n",
      "-- Train --\n",
      "Estimating biases using als...\n",
      "-- Test --\n",
      "Fold :  9\n",
      "-- Train --\n",
      "Estimating biases using als...\n",
      "-- Test --\n",
      "--==   SVD   ==--\n",
      "Fold :  0\n",
      "-- Train --\n",
      "-- Test --\n",
      "Fold :  1\n",
      "-- Train --\n",
      "-- Test --\n",
      "Fold :  2\n",
      "-- Train --\n",
      "-- Test --\n",
      "Fold :  3\n",
      "-- Train --\n",
      "-- Test --\n",
      "Fold :  4\n",
      "-- Train --\n",
      "-- Test --\n",
      "Fold :  5\n",
      "-- Train --\n",
      "-- Test --\n",
      "Fold :  6\n",
      "-- Train --\n",
      "-- Test --\n",
      "Fold :  7\n",
      "-- Train --\n",
      "-- Test --\n",
      "Fold :  8\n",
      "-- Train --\n",
      "-- Test --\n",
      "Fold :  9\n",
      "-- Train --\n",
      "-- Test --\n",
      "--==   NMF   ==--\n",
      "Fold :  0\n",
      "-- Train --\n",
      "-- Test --\n",
      "Fold :  1\n",
      "-- Train --\n",
      "-- Test --\n",
      "Fold :  2\n",
      "-- Train --\n",
      "-- Test --\n",
      "Fold :  3\n",
      "-- Train --\n"
     ]
    }
   ],
   "source": [
    "for name in algoListe[:6] :\n",
    "    print(\"--==  \",name,\"  ==--\")\n",
    "    for fold in range(10): \n",
    "        print(\"Fold : \",fold)\n",
    "        algo=algoChoice[name]() # We create the algorithm named name\n",
    "        print(\"-- Train --\")\n",
    "        train=trainsetCV(fold) \n",
    "        algo.fit(train) # We train the algorithm\n",
    "        print(\"-- Test --\")\n",
    "        addResult(algo,results,listTestCV(fold),name+str(fold))\n",
    "        dicoDfTest[fold][\"Predicted ratings \"+name]=listPredictions(dicoDfTest[fold].to_numpy(),algo)"
   ]
  },
  {
   "cell_type": "markdown",
   "metadata": {},
   "source": [
    "We save our result"
   ]
  },
  {
   "cell_type": "code",
   "execution_count": null,
   "metadata": {},
   "outputs": [],
   "source": [
    "lRMSEname=list()\n",
    "lMAEname=list()\n",
    "for i in range(10):\n",
    "    lRMSEname.append(\"RMSE_\"+inteName(i))\n",
    "    lMAEname.append(\"MAE_\"+inteName(i))\n",
    "for i in range(10,51,5):\n",
    "    lRMSEname.append(\"RMSE_\"+inteName(i))\n",
    "    lMAEname.append(\"MAE_\"+inteName(i))\n",
    "\n",
    "nameColumms=[\"algoName\",\"RMSE_All\",\"RMSE_<20\",\"RMSE_20+\"]+lRMSEname+[\"MAE_All\",\"MAE_<20\",\"MAE_20+\"]+lMAEname"
   ]
  },
  {
   "cell_type": "code",
   "execution_count": null,
   "metadata": {},
   "outputs": [],
   "source": [
    "dfRes=pd.DataFrame(columns =nameColumms)\n",
    "for key in results:\n",
    "    dfRes.loc[len(dfRes)]=[key]+results[key]\n",
    "dfRes.to_csv('data/resultRMSEbyInterval_1.csv',index=False)"
   ]
  },
  {
   "cell_type": "code",
   "execution_count": null,
   "metadata": {},
   "outputs": [],
   "source": [
    "for i in dicoDfTest :\n",
    "    dicoDfTest[i].to_csv('data/prediction_fold_'+str(i)'.csv',index=False)"
   ]
  },
  {
   "cell_type": "code",
   "execution_count": null,
   "metadata": {},
   "outputs": [],
   "source": [
    "df.concat(dicoDfTest.values())\n",
    "df.to_csv('data/prediction3.csv',index=False)"
   ]
  }
 ],
 "metadata": {
  "kernelspec": {
   "display_name": "Python 3",
   "language": "python",
   "name": "python3"
  },
  "language_info": {
   "codemirror_mode": {
    "name": "ipython",
    "version": 3
   },
   "file_extension": ".py",
   "mimetype": "text/x-python",
   "name": "python",
   "nbconvert_exporter": "python",
   "pygments_lexer": "ipython3",
   "version": "3.6.3"
  }
 },
 "nbformat": 4,
 "nbformat_minor": 2
}
