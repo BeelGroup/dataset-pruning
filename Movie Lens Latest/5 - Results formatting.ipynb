{
 "cells": [
  {
   "cell_type": "markdown",
   "metadata": {},
   "source": [
    "# Results formatting"
   ]
  },
  {
   "cell_type": "markdown",
   "metadata": {},
   "source": [
    "In that part we will fromatting the results because all the algorithms have 10 diffrent RMSE for each interval and we will calculate the average for each algorithms."
   ]
  },
  {
   "cell_type": "code",
   "execution_count": 1,
   "metadata": {},
   "outputs": [],
   "source": [
    "import pandas as pd"
   ]
  },
  {
   "cell_type": "markdown",
   "metadata": {},
   "source": [
    "The next function return the list l1 with all the element divided by a"
   ]
  },
  {
   "cell_type": "code",
   "execution_count": 2,
   "metadata": {},
   "outputs": [],
   "source": [
    "def div(l1,a):\n",
    "    l=list()\n",
    "    for i in range(len(l1)):\n",
    "        l.append(l1[i]/a)\n",
    "    return l"
   ]
  },
  {
   "cell_type": "markdown",
   "metadata": {},
   "source": [
    "the next function return a list l such as l[i]=l1[i]+l2[i]. l1 and l2 ust have the same size"
   ]
  },
  {
   "cell_type": "code",
   "execution_count": 3,
   "metadata": {},
   "outputs": [],
   "source": [
    "def fusion(l1,l2):\n",
    "    l=list()\n",
    "    for i in range(len(l1)):\n",
    "        l.append(l1[i]+l2[i])\n",
    "    return l"
   ]
  },
  {
   "cell_type": "markdown",
   "metadata": {},
   "source": [
    "The next function make an average of all the results for each algoritms and return it into a dictionary"
   ]
  },
  {
   "cell_type": "code",
   "execution_count": 45,
   "metadata": {},
   "outputs": [],
   "source": [
    "def resultFinal(results):\n",
    "    nbFold=10\n",
    "    \n",
    "    n=list(results.keys())\n",
    "    name=list()\n",
    "    for i in range(0,len(n),nbFold):\n",
    "        name.append(n[i][:-1])\n",
    "    resultsFinal={}\n",
    "    print (name)\n",
    "    for i in range(len(n)):\n",
    "        if i/nbFold-i//nbFold==0 :\n",
    "            if i!=0 :\n",
    "                resultsFinal[name[i//nbFold-1]]=div(lTemp,nbFold)\n",
    "            lTemp=results[n[i]]\n",
    "        else :\n",
    "            lTemp=fusion(lTemp,results[n[i]])\n",
    "        #print(lTemp[0])\n",
    "    resultsFinal[name[-1]]=div(lTemp,nbFold)\n",
    "    return resultsFinal"
   ]
  },
  {
   "cell_type": "code",
   "execution_count": 5,
   "metadata": {},
   "outputs": [],
   "source": [
    "def inteName(i):\n",
    "    if i==0:\n",
    "        return \"1-9\"\n",
    "    elif i<10:\n",
    "        return str(int(i*10))+\"-\"+str(int(i*10+9))\n",
    "    elif i>=50:\n",
    "        return 'sup500'\n",
    "    else :\n",
    "        return str(int(i*10))+\"-\"+str(int(i*10+49))"
   ]
  },
  {
   "cell_type": "code",
   "execution_count": 38,
   "metadata": {},
   "outputs": [],
   "source": [
    "df=pd.read_csv('data/resultRMSEbyInterval_1.csv')"
   ]
  },
  {
   "cell_type": "code",
   "execution_count": 39,
   "metadata": {
    "scrolled": true
   },
   "outputs": [
    {
     "data": {
      "text/html": [
       "<div>\n",
       "<style scoped>\n",
       "    .dataframe tbody tr th:only-of-type {\n",
       "        vertical-align: middle;\n",
       "    }\n",
       "\n",
       "    .dataframe tbody tr th {\n",
       "        vertical-align: top;\n",
       "    }\n",
       "\n",
       "    .dataframe thead th {\n",
       "        text-align: right;\n",
       "    }\n",
       "</style>\n",
       "<table border=\"1\" class=\"dataframe\">\n",
       "  <thead>\n",
       "    <tr style=\"text-align: right;\">\n",
       "      <th></th>\n",
       "      <th>algoName</th>\n",
       "      <th>RMSE_All</th>\n",
       "      <th>RMSE_&lt;20</th>\n",
       "      <th>RMSE_20+</th>\n",
       "      <th>RMSE_1-9</th>\n",
       "      <th>RMSE_10-19</th>\n",
       "      <th>RMSE_20-29</th>\n",
       "      <th>RMSE_30-39</th>\n",
       "      <th>RMSE_40-49</th>\n",
       "      <th>RMSE_50-59</th>\n",
       "      <th>...</th>\n",
       "      <th>MAE_90-99</th>\n",
       "      <th>MAE_100-149</th>\n",
       "      <th>MAE_150-199</th>\n",
       "      <th>MAE_200-249</th>\n",
       "      <th>MAE_250-299</th>\n",
       "      <th>MAE_300-349</th>\n",
       "      <th>MAE_350-399</th>\n",
       "      <th>MAE_400-449</th>\n",
       "      <th>MAE_450-499</th>\n",
       "      <th>MAE_sup500</th>\n",
       "    </tr>\n",
       "  </thead>\n",
       "  <tbody>\n",
       "    <tr>\n",
       "      <th>0</th>\n",
       "      <td>NMF0</td>\n",
       "      <td>1.251708</td>\n",
       "      <td>1.336878</td>\n",
       "      <td>0.964867</td>\n",
       "      <td>1.367530</td>\n",
       "      <td>1.095043</td>\n",
       "      <td>1.048740</td>\n",
       "      <td>1.020896</td>\n",
       "      <td>0.997869</td>\n",
       "      <td>0.970965</td>\n",
       "      <td>...</td>\n",
       "      <td>0.704698</td>\n",
       "      <td>0.706330</td>\n",
       "      <td>0.694043</td>\n",
       "      <td>0.700301</td>\n",
       "      <td>0.691466</td>\n",
       "      <td>0.698467</td>\n",
       "      <td>0.704500</td>\n",
       "      <td>0.691654</td>\n",
       "      <td>0.700510</td>\n",
       "      <td>0.689350</td>\n",
       "    </tr>\n",
       "    <tr>\n",
       "      <th>1</th>\n",
       "      <td>NMF1</td>\n",
       "      <td>1.251793</td>\n",
       "      <td>1.336734</td>\n",
       "      <td>0.966009</td>\n",
       "      <td>1.367142</td>\n",
       "      <td>1.097062</td>\n",
       "      <td>1.049703</td>\n",
       "      <td>1.014921</td>\n",
       "      <td>1.001286</td>\n",
       "      <td>0.974915</td>\n",
       "      <td>...</td>\n",
       "      <td>0.710413</td>\n",
       "      <td>0.705143</td>\n",
       "      <td>0.693959</td>\n",
       "      <td>0.698614</td>\n",
       "      <td>0.688932</td>\n",
       "      <td>0.698219</td>\n",
       "      <td>0.705260</td>\n",
       "      <td>0.683798</td>\n",
       "      <td>0.701365</td>\n",
       "      <td>0.691202</td>\n",
       "    </tr>\n",
       "    <tr>\n",
       "      <th>2</th>\n",
       "      <td>NMF2</td>\n",
       "      <td>1.251069</td>\n",
       "      <td>1.335739</td>\n",
       "      <td>0.966485</td>\n",
       "      <td>1.366095</td>\n",
       "      <td>1.096510</td>\n",
       "      <td>1.053284</td>\n",
       "      <td>1.022710</td>\n",
       "      <td>1.000137</td>\n",
       "      <td>0.974090</td>\n",
       "      <td>...</td>\n",
       "      <td>0.701839</td>\n",
       "      <td>0.706132</td>\n",
       "      <td>0.696396</td>\n",
       "      <td>0.703872</td>\n",
       "      <td>0.695359</td>\n",
       "      <td>0.693159</td>\n",
       "      <td>0.710399</td>\n",
       "      <td>0.691386</td>\n",
       "      <td>0.707625</td>\n",
       "      <td>0.690810</td>\n",
       "    </tr>\n",
       "    <tr>\n",
       "      <th>3</th>\n",
       "      <td>NMF3</td>\n",
       "      <td>1.251739</td>\n",
       "      <td>1.336841</td>\n",
       "      <td>0.965038</td>\n",
       "      <td>1.367330</td>\n",
       "      <td>1.096459</td>\n",
       "      <td>1.047987</td>\n",
       "      <td>1.018080</td>\n",
       "      <td>1.001909</td>\n",
       "      <td>0.971353</td>\n",
       "      <td>...</td>\n",
       "      <td>0.704029</td>\n",
       "      <td>0.705407</td>\n",
       "      <td>0.694302</td>\n",
       "      <td>0.697706</td>\n",
       "      <td>0.693070</td>\n",
       "      <td>0.701055</td>\n",
       "      <td>0.710627</td>\n",
       "      <td>0.679409</td>\n",
       "      <td>0.703960</td>\n",
       "      <td>0.690371</td>\n",
       "    </tr>\n",
       "  </tbody>\n",
       "</table>\n",
       "<p>4 rows × 45 columns</p>\n",
       "</div>"
      ],
      "text/plain": [
       "  algoName  RMSE_All  RMSE_<20  RMSE_20+  RMSE_1-9  RMSE_10-19  RMSE_20-29  \\\n",
       "0     NMF0  1.251708  1.336878  0.964867  1.367530    1.095043    1.048740   \n",
       "1     NMF1  1.251793  1.336734  0.966009  1.367142    1.097062    1.049703   \n",
       "2     NMF2  1.251069  1.335739  0.966485  1.366095    1.096510    1.053284   \n",
       "3     NMF3  1.251739  1.336841  0.965038  1.367330    1.096459    1.047987   \n",
       "\n",
       "   RMSE_30-39  RMSE_40-49  RMSE_50-59  ...  MAE_90-99  MAE_100-149  \\\n",
       "0    1.020896    0.997869    0.970965  ...   0.704698     0.706330   \n",
       "1    1.014921    1.001286    0.974915  ...   0.710413     0.705143   \n",
       "2    1.022710    1.000137    0.974090  ...   0.701839     0.706132   \n",
       "3    1.018080    1.001909    0.971353  ...   0.704029     0.705407   \n",
       "\n",
       "   MAE_150-199  MAE_200-249  MAE_250-299  MAE_300-349  MAE_350-399  \\\n",
       "0     0.694043     0.700301     0.691466     0.698467     0.704500   \n",
       "1     0.693959     0.698614     0.688932     0.698219     0.705260   \n",
       "2     0.696396     0.703872     0.695359     0.693159     0.710399   \n",
       "3     0.694302     0.697706     0.693070     0.701055     0.710627   \n",
       "\n",
       "   MAE_400-449  MAE_450-499  MAE_sup500  \n",
       "0     0.691654     0.700510    0.689350  \n",
       "1     0.683798     0.701365    0.691202  \n",
       "2     0.691386     0.707625    0.690810  \n",
       "3     0.679409     0.703960    0.690371  \n",
       "\n",
       "[4 rows x 45 columns]"
      ]
     },
     "execution_count": 39,
     "metadata": {},
     "output_type": "execute_result"
    }
   ],
   "source": [
    "df"
   ]
  },
  {
   "cell_type": "code",
   "execution_count": 26,
   "metadata": {},
   "outputs": [],
   "source": [
    "nameColumms=list(df)"
   ]
  },
  {
   "cell_type": "code",
   "execution_count": 46,
   "metadata": {},
   "outputs": [],
   "source": [
    "res={}\n",
    "for index,row in df.iterrows():\n",
    "    l=list()\n",
    "    for i in nameColumms[1:]:\n",
    "        l.append(row[i])\n",
    "    res[row['algoName']]=l"
   ]
  },
  {
   "cell_type": "code",
   "execution_count": 47,
   "metadata": {},
   "outputs": [
    {
     "name": "stdout",
     "output_type": "stream",
     "text": [
      "['NMF']\n"
     ]
    }
   ],
   "source": [
    "resultsf=resultFinal(res)"
   ]
  },
  {
   "cell_type": "code",
   "execution_count": 48,
   "metadata": {},
   "outputs": [
    {
     "data": {
      "text/plain": [
       "{'NMF': [1.2515771491852021,\n",
       "  1.336548023018124,\n",
       "  0.9655998846058256,\n",
       "  1.3670242311405003,\n",
       "  1.096268643694273,\n",
       "  1.0499286275420878,\n",
       "  1.0191516295928054,\n",
       "  1.0003002513335686,\n",
       "  0.9728308150988672,\n",
       "  0.9600465967686901,\n",
       "  0.9556417034120391,\n",
       "  0.9514034309579812,\n",
       "  0.9305725755983829,\n",
       "  0.9261647045493675,\n",
       "  0.9080107020331147,\n",
       "  0.9100916290522008,\n",
       "  0.9036974599045356,\n",
       "  0.9064374979185608,\n",
       "  0.9216620252543694,\n",
       "  0.8919612088403138,\n",
       "  0.9047947625643288,\n",
       "  0.8991027855276658,\n",
       "  0.9556166591289331,\n",
       "  1.0334576955042287,\n",
       "  0.7321822152180562,\n",
       "  1.0628937842671409,\n",
       "  0.8246212111034744,\n",
       "  0.7912360959628467,\n",
       "  0.7694553621296183,\n",
       "  0.754695470141529,\n",
       "  0.7345545684333177,\n",
       "  0.7226321763047363,\n",
       "  0.7268092134456383,\n",
       "  0.7198586053545812,\n",
       "  0.7052448123618761,\n",
       "  0.7057532140638503,\n",
       "  0.6946750192992878,\n",
       "  0.7001232001013996,\n",
       "  0.6922066948053458,\n",
       "  0.6977247604777665,\n",
       "  0.7076965059584513,\n",
       "  0.6865617071603074,\n",
       "  0.703364861070139,\n",
       "  0.6904331889711375]}"
      ]
     },
     "execution_count": 48,
     "metadata": {},
     "output_type": "execute_result"
    }
   ],
   "source": [
    "resultsf"
   ]
  },
  {
   "cell_type": "code",
   "execution_count": 49,
   "metadata": {},
   "outputs": [],
   "source": [
    "dfbis=pd.DataFrame(columns =nameColumms)\n",
    "for key in resultsf:\n",
    "    dfbis.loc[len(dfbis)]=[key]+resultsf[key]"
   ]
  },
  {
   "cell_type": "code",
   "execution_count": 52,
   "metadata": {},
   "outputs": [
    {
     "data": {
      "text/html": [
       "<div>\n",
       "<style scoped>\n",
       "    .dataframe tbody tr th:only-of-type {\n",
       "        vertical-align: middle;\n",
       "    }\n",
       "\n",
       "    .dataframe tbody tr th {\n",
       "        vertical-align: top;\n",
       "    }\n",
       "\n",
       "    .dataframe thead th {\n",
       "        text-align: right;\n",
       "    }\n",
       "</style>\n",
       "<table border=\"1\" class=\"dataframe\">\n",
       "  <thead>\n",
       "    <tr style=\"text-align: right;\">\n",
       "      <th></th>\n",
       "      <th>algoName</th>\n",
       "      <th>RMSE_All</th>\n",
       "      <th>RMSE_&lt;20</th>\n",
       "      <th>RMSE_20+</th>\n",
       "      <th>RMSE_1-9</th>\n",
       "      <th>RMSE_10-19</th>\n",
       "      <th>RMSE_20-29</th>\n",
       "      <th>RMSE_30-39</th>\n",
       "      <th>RMSE_40-49</th>\n",
       "      <th>RMSE_50-59</th>\n",
       "      <th>...</th>\n",
       "      <th>MAE_90-99</th>\n",
       "      <th>MAE_100-149</th>\n",
       "      <th>MAE_150-199</th>\n",
       "      <th>MAE_200-249</th>\n",
       "      <th>MAE_250-299</th>\n",
       "      <th>MAE_300-349</th>\n",
       "      <th>MAE_350-399</th>\n",
       "      <th>MAE_400-449</th>\n",
       "      <th>MAE_450-499</th>\n",
       "      <th>MAE_sup500</th>\n",
       "    </tr>\n",
       "  </thead>\n",
       "  <tbody>\n",
       "    <tr>\n",
       "      <th>0</th>\n",
       "      <td>NMF</td>\n",
       "      <td>1.251577</td>\n",
       "      <td>1.336548</td>\n",
       "      <td>0.965600</td>\n",
       "      <td>1.367024</td>\n",
       "      <td>1.096269</td>\n",
       "      <td>1.049929</td>\n",
       "      <td>1.019152</td>\n",
       "      <td>1.000300</td>\n",
       "      <td>0.972831</td>\n",
       "      <td>...</td>\n",
       "      <td>0.705245</td>\n",
       "      <td>0.705753</td>\n",
       "      <td>0.694675</td>\n",
       "      <td>0.700123</td>\n",
       "      <td>0.692207</td>\n",
       "      <td>0.697725</td>\n",
       "      <td>0.707697</td>\n",
       "      <td>0.686562</td>\n",
       "      <td>0.703365</td>\n",
       "      <td>0.690433</td>\n",
       "    </tr>\n",
       "    <tr>\n",
       "      <th>0</th>\n",
       "      <td>BaselineOnly</td>\n",
       "      <td>1.001346</td>\n",
       "      <td>1.046035</td>\n",
       "      <td>0.863386</td>\n",
       "      <td>1.054788</td>\n",
       "      <td>0.981406</td>\n",
       "      <td>0.942208</td>\n",
       "      <td>0.915571</td>\n",
       "      <td>0.899244</td>\n",
       "      <td>0.874065</td>\n",
       "      <td>...</td>\n",
       "      <td>0.617804</td>\n",
       "      <td>0.618913</td>\n",
       "      <td>0.606534</td>\n",
       "      <td>0.612871</td>\n",
       "      <td>0.598105</td>\n",
       "      <td>0.610207</td>\n",
       "      <td>0.610933</td>\n",
       "      <td>0.598512</td>\n",
       "      <td>0.623345</td>\n",
       "      <td>0.569258</td>\n",
       "    </tr>\n",
       "    <tr>\n",
       "      <th>1</th>\n",
       "      <td>SVD</td>\n",
       "      <td>1.003280</td>\n",
       "      <td>1.045762</td>\n",
       "      <td>0.873034</td>\n",
       "      <td>1.055124</td>\n",
       "      <td>0.976451</td>\n",
       "      <td>0.941584</td>\n",
       "      <td>0.918120</td>\n",
       "      <td>0.904743</td>\n",
       "      <td>0.881577</td>\n",
       "      <td>...</td>\n",
       "      <td>0.616595</td>\n",
       "      <td>0.621440</td>\n",
       "      <td>0.612162</td>\n",
       "      <td>0.620954</td>\n",
       "      <td>0.606271</td>\n",
       "      <td>0.620348</td>\n",
       "      <td>0.621391</td>\n",
       "      <td>0.607048</td>\n",
       "      <td>0.637894</td>\n",
       "      <td>0.583528</td>\n",
       "    </tr>\n",
       "  </tbody>\n",
       "</table>\n",
       "<p>3 rows × 45 columns</p>\n",
       "</div>"
      ],
      "text/plain": [
       "       algoName  RMSE_All  RMSE_<20  RMSE_20+  RMSE_1-9  RMSE_10-19  \\\n",
       "0           NMF  1.251577  1.336548  0.965600  1.367024    1.096269   \n",
       "0  BaselineOnly  1.001346  1.046035  0.863386  1.054788    0.981406   \n",
       "1           SVD  1.003280  1.045762  0.873034  1.055124    0.976451   \n",
       "\n",
       "   RMSE_20-29  RMSE_30-39  RMSE_40-49  RMSE_50-59  ...  MAE_90-99  \\\n",
       "0    1.049929    1.019152    1.000300    0.972831  ...   0.705245   \n",
       "0    0.942208    0.915571    0.899244    0.874065  ...   0.617804   \n",
       "1    0.941584    0.918120    0.904743    0.881577  ...   0.616595   \n",
       "\n",
       "   MAE_100-149  MAE_150-199  MAE_200-249  MAE_250-299  MAE_300-349  \\\n",
       "0     0.705753     0.694675     0.700123     0.692207     0.697725   \n",
       "0     0.618913     0.606534     0.612871     0.598105     0.610207   \n",
       "1     0.621440     0.612162     0.620954     0.606271     0.620348   \n",
       "\n",
       "   MAE_350-399  MAE_400-449  MAE_450-499  MAE_sup500  \n",
       "0     0.707697     0.686562     0.703365    0.690433  \n",
       "0     0.610933     0.598512     0.623345    0.569258  \n",
       "1     0.621391     0.607048     0.637894    0.583528  \n",
       "\n",
       "[3 rows x 45 columns]"
      ]
     },
     "execution_count": 52,
     "metadata": {},
     "output_type": "execute_result"
    }
   ],
   "source": [
    "dfbis"
   ]
  },
  {
   "cell_type": "code",
   "execution_count": 53,
   "metadata": {},
   "outputs": [],
   "source": [
    "dfbis.to_csv('data/resultRMSEbyInterval_V1.csv',index=False)"
   ]
  },
  {
   "cell_type": "code",
   "execution_count": null,
   "metadata": {},
   "outputs": [],
   "source": []
  }
 ],
 "metadata": {
  "kernelspec": {
   "display_name": "Python 3",
   "language": "python",
   "name": "python3"
  },
  "language_info": {
   "codemirror_mode": {
    "name": "ipython",
    "version": 3
   },
   "file_extension": ".py",
   "mimetype": "text/x-python",
   "name": "python",
   "nbconvert_exporter": "python",
   "pygments_lexer": "ipython3",
   "version": "3.6.3"
  }
 },
 "nbformat": 4,
 "nbformat_minor": 2
}
