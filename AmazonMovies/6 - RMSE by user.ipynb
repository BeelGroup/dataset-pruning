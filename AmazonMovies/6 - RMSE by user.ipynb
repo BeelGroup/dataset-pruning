{
 "cells": [
  {
   "cell_type": "code",
   "execution_count": 1,
   "metadata": {},
   "outputs": [],
   "source": [
    "import pandas as pd\n",
    "import numpy as np\n",
    "from math import sqrt"
   ]
  },
  {
   "cell_type": "code",
   "execution_count": 2,
   "metadata": {},
   "outputs": [],
   "source": [
    "def inteName(i):\n",
    "    if i==0:\n",
    "        return \"1-9\"\n",
    "    elif i<10:\n",
    "        return str(int(i*10))+\"-\"+str(int(i*10+9))\n",
    "    elif i>=50:\n",
    "        return 'sup500'\n",
    "    else :\n",
    "        return str(int(i*10))+\"-\"+str(int(i*10+49))"
   ]
  },
  {
   "cell_type": "code",
   "execution_count": 3,
   "metadata": {},
   "outputs": [],
   "source": [
    "dicoDf={}\n",
    "for i in range(10) :\n",
    "    dicoDf[i]=pd.read_csv('data/prediction_1_fold_'+str(i)+'.csv')"
   ]
  },
  {
   "cell_type": "code",
   "execution_count": 4,
   "metadata": {},
   "outputs": [],
   "source": [
    "listDF=dicoDf.values()"
   ]
  },
  {
   "cell_type": "code",
   "execution_count": 5,
   "metadata": {},
   "outputs": [
    {
     "data": {
      "text/html": [
       "<div>\n",
       "<style scoped>\n",
       "    .dataframe tbody tr th:only-of-type {\n",
       "        vertical-align: middle;\n",
       "    }\n",
       "\n",
       "    .dataframe tbody tr th {\n",
       "        vertical-align: top;\n",
       "    }\n",
       "\n",
       "    .dataframe thead th {\n",
       "        text-align: right;\n",
       "    }\n",
       "</style>\n",
       "<table border=\"1\" class=\"dataframe\">\n",
       "  <thead>\n",
       "    <tr style=\"text-align: right;\">\n",
       "      <th></th>\n",
       "      <th>userId</th>\n",
       "      <th>movieId</th>\n",
       "      <th>rating</th>\n",
       "      <th>Predicted ratings BaselineOnly</th>\n",
       "      <th>Predicted ratings SVD</th>\n",
       "      <th>Predicted ratings NMF</th>\n",
       "    </tr>\n",
       "  </thead>\n",
       "  <tbody>\n",
       "    <tr>\n",
       "      <th>0</th>\n",
       "      <td>1</td>\n",
       "      <td>B000UMMA8I</td>\n",
       "      <td>4.0</td>\n",
       "      <td>4.365701</td>\n",
       "      <td>4.428419</td>\n",
       "      <td>3.897031</td>\n",
       "    </tr>\n",
       "    <tr>\n",
       "      <th>1</th>\n",
       "      <td>2</td>\n",
       "      <td>0000143561</td>\n",
       "      <td>2.0</td>\n",
       "      <td>4.064293</td>\n",
       "      <td>4.060346</td>\n",
       "      <td>4.152851</td>\n",
       "    </tr>\n",
       "    <tr>\n",
       "      <th>2</th>\n",
       "      <td>3</td>\n",
       "      <td>6302767741</td>\n",
       "      <td>5.0</td>\n",
       "      <td>4.555602</td>\n",
       "      <td>4.560370</td>\n",
       "      <td>4.760313</td>\n",
       "    </tr>\n",
       "    <tr>\n",
       "      <th>3</th>\n",
       "      <td>3</td>\n",
       "      <td>6304285116</td>\n",
       "      <td>5.0</td>\n",
       "      <td>4.200044</td>\n",
       "      <td>4.354454</td>\n",
       "      <td>3.852376</td>\n",
       "    </tr>\n",
       "    <tr>\n",
       "      <th>4</th>\n",
       "      <td>3</td>\n",
       "      <td>B000077VRZ</td>\n",
       "      <td>5.0</td>\n",
       "      <td>4.034638</td>\n",
       "      <td>4.156537</td>\n",
       "      <td>3.400728</td>\n",
       "    </tr>\n",
       "  </tbody>\n",
       "</table>\n",
       "</div>"
      ],
      "text/plain": [
       "   userId     movieId  rating  Predicted ratings BaselineOnly  \\\n",
       "0       1  B000UMMA8I     4.0                        4.365701   \n",
       "1       2  0000143561     2.0                        4.064293   \n",
       "2       3  6302767741     5.0                        4.555602   \n",
       "3       3  6304285116     5.0                        4.200044   \n",
       "4       3  B000077VRZ     5.0                        4.034638   \n",
       "\n",
       "   Predicted ratings SVD  Predicted ratings NMF  \n",
       "0               4.428419               3.897031  \n",
       "1               4.060346               4.152851  \n",
       "2               4.560370               4.760313  \n",
       "3               4.354454               3.852376  \n",
       "4               4.156537               3.400728  "
      ]
     },
     "execution_count": 5,
     "metadata": {},
     "output_type": "execute_result"
    }
   ],
   "source": [
    "dicoDf[0].head()"
   ]
  },
  {
   "cell_type": "code",
   "execution_count": 6,
   "metadata": {},
   "outputs": [],
   "source": [
    "algoListe=[\"BaselineOnly\", \"SVD\", \"NMF\", \"SlopeOne\", \n",
    "           \"CoClustering\", \"NormalPredictor\", \"SVDpp\",\n",
    "           \"KNNBasic\", \"KNNWithMeans\", \"KNNBaseline\", \"KNNWithZScore\"]"
   ]
  },
  {
   "cell_type": "code",
   "execution_count": 7,
   "metadata": {},
   "outputs": [],
   "source": [
    "nbAlgo=3"
   ]
  },
  {
   "cell_type": "code",
   "execution_count": 8,
   "metadata": {},
   "outputs": [],
   "source": [
    "for df in listDF:\n",
    "    for name in algoListe[:nbAlgo]:\n",
    "        df[\"error \"+name]=abs(df[\"rating\"]-df[\"Predicted ratings \"+name])"
   ]
  },
  {
   "cell_type": "code",
   "execution_count": 9,
   "metadata": {},
   "outputs": [],
   "source": [
    "ncol=list(dicoDf[0])"
   ]
  },
  {
   "cell_type": "code",
   "execution_count": 10,
   "metadata": {},
   "outputs": [],
   "source": [
    "errS=6"
   ]
  },
  {
   "cell_type": "code",
   "execution_count": 11,
   "metadata": {},
   "outputs": [
    {
     "data": {
      "text/plain": [
       "'error BaselineOnly'"
      ]
     },
     "execution_count": 11,
     "metadata": {},
     "output_type": "execute_result"
    }
   ],
   "source": [
    "ncol[errS]"
   ]
  },
  {
   "cell_type": "code",
   "execution_count": 12,
   "metadata": {},
   "outputs": [],
   "source": [
    "d={}\n",
    "ar=df.to_numpy()"
   ]
  },
  {
   "cell_type": "code",
   "execution_count": 13,
   "metadata": {},
   "outputs": [],
   "source": [
    "def rmse(l):\n",
    "    s=0\n",
    "    for i in l:\n",
    "        s+=i*i\n",
    "    return sqrt(s/len(l))\n",
    "\n",
    "def avg(l):\n",
    "    s=0\n",
    "    for i in l:\n",
    "        s+=i\n",
    "    return s/len(l)"
   ]
  },
  {
   "cell_type": "code",
   "execution_count": 14,
   "metadata": {},
   "outputs": [],
   "source": [
    "nameColumms=['UserId','Number of rated movies in the training dataset','Number of rated movies in the testing dataset']\n",
    "for name in algoListe[:nbAlgo] :\n",
    "    nameColumms.append('RMSE '+name+', per user')\n",
    "for name in algoListe[:nbAlgo] :\n",
    "    nameColumms.append('MAE '+name+', per user')"
   ]
  },
  {
   "cell_type": "code",
   "execution_count": 16,
   "metadata": {},
   "outputs": [],
   "source": [
    "listDfRes=list()\n",
    "for fold in range(10):\n",
    "    d={}\n",
    "    ar=dicoDf[fold].to_numpy()\n",
    "    t=len(ar)\n",
    "    for i in range(t) :\n",
    "        ID=ar[i,0]\n",
    "        if ID not in d :\n",
    "            d[ID]={}\n",
    "            for j in range(nbAlgo) :\n",
    "                d[ID][j]=[ar[i,j+errS]]\n",
    "        else :\n",
    "            for j in range(nbAlgo) :\n",
    "                d[ID][j].append(ar[i,j+errS])\n",
    "\n",
    "    dfDico=pd.read_csv('dataCV3/user-nbRating_fold_'+str(fold)+'.csv')\n",
    "    dRatingsTrain={}\n",
    "    dRatingsTest={}\n",
    "    for index, row in dfDico.iterrows():\n",
    "        dRatingsTrain[row['userId']]=row['NBRatingTrain']\n",
    "        dRatingsTest[row['userId']]=row['NBRatingTest']\n",
    "    del dfDico\n",
    "\n",
    "    d2={}\n",
    "    for i in d:\n",
    "        d2[i]={}\n",
    "        for j in range(nbAlgo):\n",
    "            d2[i][j]=rmse(d[i][j])\n",
    "\n",
    "    d3={}\n",
    "    for i in d:\n",
    "        d3[i]={}\n",
    "        for j in range(nbAlgo):\n",
    "            d3[i][j]=avg(d[i][j])\n",
    "\n",
    "    listAR=list()\n",
    "    for i in d2 :\n",
    "        listAR.append(np.array([[int(i),int(dRatingsTrain[i]), int(dRatingsTest[i]),\n",
    "                                 d2[i][0], d2[i][1], d2[i][2], \n",
    "                                 d3[i][0], d3[i][1], d3[i][2] ]]))\n",
    "    arRes=np.concatenate(listAR)\n",
    "    dfRes=pd.DataFrame({nameColumms[0]:arRes[:,0],nameColumms[1]:arRes[:,1],nameColumms[2]:arRes[:,2],nameColumms[3]:arRes[:,3],\n",
    "                        nameColumms[4]:arRes[:,4],nameColumms[5]:arRes[:,5],nameColumms[6]:arRes[:,6],nameColumms[7]:arRes[:,7],\n",
    "                        nameColumms[8]:arRes[:,8]})\n",
    "\n",
    "    dfRes.to_csv('data/uRMSE_uMAE_fold_'+str(fold)+'.csv',index=False)\n",
    "    listDfRes.append(dfRes)"
   ]
  },
  {
   "cell_type": "code",
   "execution_count": 17,
   "metadata": {},
   "outputs": [],
   "source": [
    "dfRes=pd.concat(listDfRes)\n",
    "dfRes.to_csv('data/uRMSE_uMAE_full.csv',index=False)"
   ]
  },
  {
   "cell_type": "code",
   "execution_count": 18,
   "metadata": {},
   "outputs": [
    {
     "data": {
      "text/html": [
       "<div>\n",
       "<style scoped>\n",
       "    .dataframe tbody tr th:only-of-type {\n",
       "        vertical-align: middle;\n",
       "    }\n",
       "\n",
       "    .dataframe tbody tr th {\n",
       "        vertical-align: top;\n",
       "    }\n",
       "\n",
       "    .dataframe thead th {\n",
       "        text-align: right;\n",
       "    }\n",
       "</style>\n",
       "<table border=\"1\" class=\"dataframe\">\n",
       "  <thead>\n",
       "    <tr style=\"text-align: right;\">\n",
       "      <th></th>\n",
       "      <th>UserId</th>\n",
       "      <th>Number of rated movies in the training dataset</th>\n",
       "      <th>Number of rated movies in the testing dataset</th>\n",
       "      <th>RMSE BaselineOnly, per user</th>\n",
       "      <th>RMSE SVD, per user</th>\n",
       "      <th>RMSE NMF, per user</th>\n",
       "      <th>MAE BaselineOnly, per user</th>\n",
       "      <th>MAE SVD, per user</th>\n",
       "      <th>MAE NMF, per user</th>\n",
       "    </tr>\n",
       "  </thead>\n",
       "  <tbody>\n",
       "    <tr>\n",
       "      <th>0</th>\n",
       "      <td>1.0</td>\n",
       "      <td>2.0</td>\n",
       "      <td>1.0</td>\n",
       "      <td>0.365701</td>\n",
       "      <td>0.428419</td>\n",
       "      <td>0.102969</td>\n",
       "      <td>0.365701</td>\n",
       "      <td>0.428419</td>\n",
       "      <td>0.102969</td>\n",
       "    </tr>\n",
       "    <tr>\n",
       "      <th>1</th>\n",
       "      <td>2.0</td>\n",
       "      <td>2.0</td>\n",
       "      <td>1.0</td>\n",
       "      <td>2.064293</td>\n",
       "      <td>2.060346</td>\n",
       "      <td>2.152851</td>\n",
       "      <td>2.064293</td>\n",
       "      <td>2.060346</td>\n",
       "      <td>2.152851</td>\n",
       "    </tr>\n",
       "    <tr>\n",
       "      <th>2</th>\n",
       "      <td>3.0</td>\n",
       "      <td>30.0</td>\n",
       "      <td>7.0</td>\n",
       "      <td>0.587362</td>\n",
       "      <td>0.495842</td>\n",
       "      <td>0.809181</td>\n",
       "      <td>0.517804</td>\n",
       "      <td>0.430568</td>\n",
       "      <td>0.618042</td>\n",
       "    </tr>\n",
       "    <tr>\n",
       "      <th>3</th>\n",
       "      <td>4.0</td>\n",
       "      <td>6.0</td>\n",
       "      <td>1.0</td>\n",
       "      <td>0.227178</td>\n",
       "      <td>0.283215</td>\n",
       "      <td>0.000000</td>\n",
       "      <td>0.227178</td>\n",
       "      <td>0.283215</td>\n",
       "      <td>0.000000</td>\n",
       "    </tr>\n",
       "    <tr>\n",
       "      <th>4</th>\n",
       "      <td>5.0</td>\n",
       "      <td>1.0</td>\n",
       "      <td>1.0</td>\n",
       "      <td>1.060758</td>\n",
       "      <td>0.964166</td>\n",
       "      <td>1.114697</td>\n",
       "      <td>1.060758</td>\n",
       "      <td>0.964166</td>\n",
       "      <td>1.114697</td>\n",
       "    </tr>\n",
       "  </tbody>\n",
       "</table>\n",
       "</div>"
      ],
      "text/plain": [
       "   UserId  Number of rated movies in the training dataset  \\\n",
       "0     1.0                                             2.0   \n",
       "1     2.0                                             2.0   \n",
       "2     3.0                                            30.0   \n",
       "3     4.0                                             6.0   \n",
       "4     5.0                                             1.0   \n",
       "\n",
       "   Number of rated movies in the testing dataset  RMSE BaselineOnly, per user  \\\n",
       "0                                            1.0                     0.365701   \n",
       "1                                            1.0                     2.064293   \n",
       "2                                            7.0                     0.587362   \n",
       "3                                            1.0                     0.227178   \n",
       "4                                            1.0                     1.060758   \n",
       "\n",
       "   RMSE SVD, per user  RMSE NMF, per user  MAE BaselineOnly, per user  \\\n",
       "0            0.428419            0.102969                    0.365701   \n",
       "1            2.060346            2.152851                    2.064293   \n",
       "2            0.495842            0.809181                    0.517804   \n",
       "3            0.283215            0.000000                    0.227178   \n",
       "4            0.964166            1.114697                    1.060758   \n",
       "\n",
       "   MAE SVD, per user  MAE NMF, per user  \n",
       "0           0.428419           0.102969  \n",
       "1           2.060346           2.152851  \n",
       "2           0.430568           0.618042  \n",
       "3           0.283215           0.000000  \n",
       "4           0.964166           1.114697  "
      ]
     },
     "execution_count": 18,
     "metadata": {},
     "output_type": "execute_result"
    }
   ],
   "source": [
    "dfRes.head()"
   ]
  },
  {
   "cell_type": "code",
   "execution_count": 19,
   "metadata": {},
   "outputs": [],
   "source": [
    "del d,d3,d2,df"
   ]
  },
  {
   "cell_type": "code",
   "execution_count": 20,
   "metadata": {},
   "outputs": [
    {
     "data": {
      "text/plain": [
       "6239080"
      ]
     },
     "execution_count": 20,
     "metadata": {},
     "output_type": "execute_result"
    }
   ],
   "source": [
    "len(dfRes)"
   ]
  },
  {
   "cell_type": "code",
   "execution_count": 21,
   "metadata": {},
   "outputs": [
    {
     "name": "stdout",
     "output_type": "stream",
     "text": [
      "825100\n",
      "825100\n",
      "825100\n",
      "825100\n",
      "903951\n",
      "825100\n",
      "825100\n",
      "825100\n",
      "825100\n",
      "903951\n",
      "tot =  8408702\n"
     ]
    }
   ],
   "source": [
    "cpt=0\n",
    "for df in listDF :\n",
    "    print(len(df))\n",
    "    cpt+=len(df)\n",
    "\n",
    "    \n",
    "print(\"tot = \",cpt)"
   ]
  },
  {
   "cell_type": "code",
   "execution_count": 22,
   "metadata": {},
   "outputs": [
    {
     "name": "stdout",
     "output_type": "stream",
     "text": [
      "623908\n",
      "623908\n",
      "623908\n",
      "623908\n",
      "623908\n",
      "623908\n",
      "623908\n",
      "623908\n",
      "623908\n",
      "623908\n",
      "tot =  6239080\n"
     ]
    }
   ],
   "source": [
    "cpt2=0\n",
    "lres=list()\n",
    "for fold in range(10):\n",
    "    dfTemp=pd.read_csv('data/uRMSE_uMAE_fold_'+str(fold)+'.csv')\n",
    "    print(len(dfTemp))\n",
    "    cpt2+=len(dfTemp)\n",
    "    lres.append(dfTemp)\n",
    "    \n",
    "print(\"tot = \",cpt2)"
   ]
  },
  {
   "cell_type": "code",
   "execution_count": null,
   "metadata": {},
   "outputs": [],
   "source": []
  },
  {
   "cell_type": "code",
   "execution_count": 23,
   "metadata": {},
   "outputs": [],
   "source": [
    "ar=dfRes.to_numpy()"
   ]
  },
  {
   "cell_type": "code",
   "execution_count": 24,
   "metadata": {},
   "outputs": [],
   "source": [
    "t=len(ar)\n",
    "d={}\n",
    "for i in range(t) :\n",
    "    ID=ar[i,1]\n",
    "    if ID not in d:\n",
    "        d[ID]={}\n",
    "        for j in range(nbAlgo):\n",
    "            d[ID][j]=[ar[i,3+j]]\n",
    "    else :\n",
    "        for j in range(nbAlgo):\n",
    "            d[ID][j].append(ar[i,3+j])"
   ]
  },
  {
   "cell_type": "code",
   "execution_count": 25,
   "metadata": {},
   "outputs": [],
   "source": [
    "d2={}\n",
    "for i in d:\n",
    "    d2[i]={}\n",
    "    for j in range(nbAlgo):\n",
    "        d2[i][j]=avg(d[i][j])"
   ]
  },
  {
   "cell_type": "code",
   "execution_count": 27,
   "metadata": {},
   "outputs": [],
   "source": [
    "listAR=list()\n",
    "for i in d2 :\n",
    "    listAR.append(np.array([[int(i), d2[i][0], d2[i][1], d2[i][2]]]))"
   ]
  },
  {
   "cell_type": "code",
   "execution_count": 28,
   "metadata": {},
   "outputs": [],
   "source": [
    "arRes=np.concatenate(listAR)"
   ]
  },
  {
   "cell_type": "code",
   "execution_count": 29,
   "metadata": {},
   "outputs": [],
   "source": [
    "nameColumms=['Number of rated movies']\n",
    "for name in algoListe[:nbAlgo] :\n",
    "    nameColumms.append('avg RMSE '+name)"
   ]
  },
  {
   "cell_type": "code",
   "execution_count": 30,
   "metadata": {},
   "outputs": [],
   "source": [
    "dfRes=pd.DataFrame({nameColumms[0]:arRes[:,0],nameColumms[1]:arRes[:,1],nameColumms[2]:arRes[:,2],nameColumms[3]:arRes[:,3]})\n",
    "                    #nameColumms[4]:arRes[:,4],nameColumms[5]:arRes[:,5],nameColumms[6]:arRes[:,6]})"
   ]
  },
  {
   "cell_type": "code",
   "execution_count": 31,
   "metadata": {},
   "outputs": [
    {
     "data": {
      "text/html": [
       "<div>\n",
       "<style scoped>\n",
       "    .dataframe tbody tr th:only-of-type {\n",
       "        vertical-align: middle;\n",
       "    }\n",
       "\n",
       "    .dataframe tbody tr th {\n",
       "        vertical-align: top;\n",
       "    }\n",
       "\n",
       "    .dataframe thead th {\n",
       "        text-align: right;\n",
       "    }\n",
       "</style>\n",
       "<table border=\"1\" class=\"dataframe\">\n",
       "  <thead>\n",
       "    <tr style=\"text-align: right;\">\n",
       "      <th></th>\n",
       "      <th>Number of rated movies</th>\n",
       "      <th>avg RMSE BaselineOnly</th>\n",
       "      <th>avg RMSE SVD</th>\n",
       "      <th>avg RMSE NMF</th>\n",
       "    </tr>\n",
       "  </thead>\n",
       "  <tbody>\n",
       "    <tr>\n",
       "      <th>0</th>\n",
       "      <td>2.0</td>\n",
       "      <td>0.819167</td>\n",
       "      <td>0.809349</td>\n",
       "      <td>0.982313</td>\n",
       "    </tr>\n",
       "    <tr>\n",
       "      <th>1</th>\n",
       "      <td>30.0</td>\n",
       "      <td>0.953808</td>\n",
       "      <td>0.953629</td>\n",
       "      <td>1.037730</td>\n",
       "    </tr>\n",
       "    <tr>\n",
       "      <th>2</th>\n",
       "      <td>6.0</td>\n",
       "      <td>0.803341</td>\n",
       "      <td>0.786319</td>\n",
       "      <td>0.870056</td>\n",
       "    </tr>\n",
       "    <tr>\n",
       "      <th>3</th>\n",
       "      <td>1.0</td>\n",
       "      <td>0.838791</td>\n",
       "      <td>0.831812</td>\n",
       "      <td>1.237366</td>\n",
       "    </tr>\n",
       "    <tr>\n",
       "      <th>4</th>\n",
       "      <td>32.0</td>\n",
       "      <td>0.933214</td>\n",
       "      <td>0.934288</td>\n",
       "      <td>1.031612</td>\n",
       "    </tr>\n",
       "  </tbody>\n",
       "</table>\n",
       "</div>"
      ],
      "text/plain": [
       "   Number of rated movies  avg RMSE BaselineOnly  avg RMSE SVD  avg RMSE NMF\n",
       "0                     2.0               0.819167      0.809349      0.982313\n",
       "1                    30.0               0.953808      0.953629      1.037730\n",
       "2                     6.0               0.803341      0.786319      0.870056\n",
       "3                     1.0               0.838791      0.831812      1.237366\n",
       "4                    32.0               0.933214      0.934288      1.031612"
      ]
     },
     "execution_count": 31,
     "metadata": {},
     "output_type": "execute_result"
    }
   ],
   "source": [
    "dfRes.head()"
   ]
  },
  {
   "cell_type": "code",
   "execution_count": 32,
   "metadata": {},
   "outputs": [],
   "source": [
    "dfRes.to_csv('data/RMSEavg_cv.csv',index=False)"
   ]
  },
  {
   "cell_type": "code",
   "execution_count": null,
   "metadata": {},
   "outputs": [],
   "source": []
  }
 ],
 "metadata": {
  "kernelspec": {
   "display_name": "Python 3",
   "language": "python",
   "name": "python3"
  },
  "language_info": {
   "codemirror_mode": {
    "name": "ipython",
    "version": 3
   },
   "file_extension": ".py",
   "mimetype": "text/x-python",
   "name": "python",
   "nbconvert_exporter": "python",
   "pygments_lexer": "ipython3",
   "version": "3.6.3"
  }
 },
 "nbformat": 4,
 "nbformat_minor": 2
}
