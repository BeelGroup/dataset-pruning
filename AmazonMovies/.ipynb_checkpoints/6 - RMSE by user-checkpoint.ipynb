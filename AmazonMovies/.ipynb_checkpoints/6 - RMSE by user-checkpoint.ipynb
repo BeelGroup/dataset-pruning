{
 "cells": [
  {
   "cell_type": "code",
   "execution_count": 1,
   "metadata": {},
   "outputs": [],
   "source": [
    "import pandas as pd\n",
    "import numpy as np\n",
    "from math import sqrt"
   ]
  },
  {
   "cell_type": "code",
   "execution_count": 2,
   "metadata": {},
   "outputs": [],
   "source": [
    "def inteName(i):\n",
    "    if i==0:\n",
    "        return \"1-9\"\n",
    "    elif i<10:\n",
    "        return str(int(i*10))+\"-\"+str(int(i*10+9))\n",
    "    elif i>=50:\n",
    "        return 'sup500'\n",
    "    else :\n",
    "        return str(int(i*10))+\"-\"+str(int(i*10+49))"
   ]
  },
  {
   "cell_type": "code",
   "execution_count": 5,
   "metadata": {},
   "outputs": [],
   "source": [
    "dicoDf={}\n",
    "for i in range(10) :\n",
    "    dicoDf[i]=pd.read_csv('data/prediction_1_fold_'+str(i)+'.csv')"
   ]
  },
  {
   "cell_type": "code",
   "execution_count": 6,
   "metadata": {},
   "outputs": [],
   "source": [
    "listDF=dicoDf.values()"
   ]
  },
  {
   "cell_type": "code",
   "execution_count": 7,
   "metadata": {},
   "outputs": [
    {
     "data": {
      "text/html": [
       "<div>\n",
       "<style scoped>\n",
       "    .dataframe tbody tr th:only-of-type {\n",
       "        vertical-align: middle;\n",
       "    }\n",
       "\n",
       "    .dataframe tbody tr th {\n",
       "        vertical-align: top;\n",
       "    }\n",
       "\n",
       "    .dataframe thead th {\n",
       "        text-align: right;\n",
       "    }\n",
       "</style>\n",
       "<table border=\"1\" class=\"dataframe\">\n",
       "  <thead>\n",
       "    <tr style=\"text-align: right;\">\n",
       "      <th></th>\n",
       "      <th>userId</th>\n",
       "      <th>movieId</th>\n",
       "      <th>rating</th>\n",
       "      <th>Predicted ratings BaselineOnly</th>\n",
       "      <th>Predicted ratings SVD</th>\n",
       "      <th>Predicted ratings NMF</th>\n",
       "    </tr>\n",
       "  </thead>\n",
       "  <tbody>\n",
       "    <tr>\n",
       "      <th>0</th>\n",
       "      <td>1</td>\n",
       "      <td>B000UMMA8I</td>\n",
       "      <td>4.0</td>\n",
       "      <td>4.365701</td>\n",
       "      <td>4.428419</td>\n",
       "      <td>3.897031</td>\n",
       "    </tr>\n",
       "    <tr>\n",
       "      <th>1</th>\n",
       "      <td>2</td>\n",
       "      <td>0000143561</td>\n",
       "      <td>2.0</td>\n",
       "      <td>4.064293</td>\n",
       "      <td>4.060346</td>\n",
       "      <td>4.152851</td>\n",
       "    </tr>\n",
       "    <tr>\n",
       "      <th>2</th>\n",
       "      <td>3</td>\n",
       "      <td>6302767741</td>\n",
       "      <td>5.0</td>\n",
       "      <td>4.555602</td>\n",
       "      <td>4.560370</td>\n",
       "      <td>4.760313</td>\n",
       "    </tr>\n",
       "    <tr>\n",
       "      <th>3</th>\n",
       "      <td>3</td>\n",
       "      <td>6304285116</td>\n",
       "      <td>5.0</td>\n",
       "      <td>4.200044</td>\n",
       "      <td>4.354454</td>\n",
       "      <td>3.852376</td>\n",
       "    </tr>\n",
       "    <tr>\n",
       "      <th>4</th>\n",
       "      <td>3</td>\n",
       "      <td>B000077VRZ</td>\n",
       "      <td>5.0</td>\n",
       "      <td>4.034638</td>\n",
       "      <td>4.156537</td>\n",
       "      <td>3.400728</td>\n",
       "    </tr>\n",
       "  </tbody>\n",
       "</table>\n",
       "</div>"
      ],
      "text/plain": [
       "   userId     movieId  rating  Predicted ratings BaselineOnly  \\\n",
       "0       1  B000UMMA8I     4.0                        4.365701   \n",
       "1       2  0000143561     2.0                        4.064293   \n",
       "2       3  6302767741     5.0                        4.555602   \n",
       "3       3  6304285116     5.0                        4.200044   \n",
       "4       3  B000077VRZ     5.0                        4.034638   \n",
       "\n",
       "   Predicted ratings SVD  Predicted ratings NMF  \n",
       "0               4.428419               3.897031  \n",
       "1               4.060346               4.152851  \n",
       "2               4.560370               4.760313  \n",
       "3               4.354454               3.852376  \n",
       "4               4.156537               3.400728  "
      ]
     },
     "execution_count": 7,
     "metadata": {},
     "output_type": "execute_result"
    }
   ],
   "source": [
    "dicoDf[0].head()"
   ]
  },
  {
   "cell_type": "code",
   "execution_count": 6,
   "metadata": {},
   "outputs": [],
   "source": [
    "algoListe=[\"SVD\", \"NMF\", \"SlopeOne\", \"CoClustering\",\n",
    "           \"NormalPredictor\",\"BaselineOnly\", \"SVDpp\",\n",
    "           \"KNNBasic\", \"KNNWithMeans\", \"KNNBaseline\", \"KNNWithZScore\"]"
   ]
  },
  {
   "cell_type": "code",
   "execution_count": 8,
   "metadata": {},
   "outputs": [],
   "source": [
    "for df in listDF:\n",
    "    for name in algoListe[:6]:\n",
    "        df[\"error \"+name]=abs(df[\"rating\"]-df[\"Predicted ratings \"+name])"
   ]
  },
  {
   "cell_type": "code",
   "execution_count": 11,
   "metadata": {},
   "outputs": [],
   "source": [
    "ncol=list(dicoDf[0])"
   ]
  },
  {
   "cell_type": "code",
   "execution_count": 12,
   "metadata": {},
   "outputs": [
    {
     "data": {
      "text/plain": [
       "'error SVD'"
      ]
     },
     "execution_count": 12,
     "metadata": {},
     "output_type": "execute_result"
    }
   ],
   "source": [
    "ncol[9]"
   ]
  },
  {
   "cell_type": "code",
   "execution_count": 14,
   "metadata": {},
   "outputs": [],
   "source": [
    "d={}\n",
    "ar=df.to_numpy()"
   ]
  },
  {
   "cell_type": "code",
   "execution_count": 19,
   "metadata": {},
   "outputs": [],
   "source": [
    "def rmse(l):\n",
    "    s=0\n",
    "    for i in l:\n",
    "        s+=i*i\n",
    "    return sqrt(s/len(l))\n",
    "\n",
    "def avg(l):\n",
    "    s=0\n",
    "    for i in l:\n",
    "        s+=i\n",
    "    return s/len(l)"
   ]
  },
  {
   "cell_type": "code",
   "execution_count": 20,
   "metadata": {},
   "outputs": [],
   "source": [
    "nameColumms=['UserId','Number of rated movies in the training dataset','Number of rated movies in the testing dataset']\n",
    "for name in algoListe[:6] :\n",
    "    nameColumms.append('RMSE '+name+', per user')\n",
    "for name in algoListe[:6] :\n",
    "    nameColumms.append('MAE '+name+', per user')"
   ]
  },
  {
   "cell_type": "code",
   "execution_count": 22,
   "metadata": {},
   "outputs": [],
   "source": [
    "listDfRes=list()\n",
    "for fold in range(10):\n",
    "    d={}\n",
    "    ar=dicoDf[fold].to_numpy()\n",
    "    t=len(ar)\n",
    "    for i in range(t) :\n",
    "        ID=ar[i,0]\n",
    "        if ID not in d :\n",
    "            d[ID]={}\n",
    "            for j in range(6) :\n",
    "                d[ID][j]=[ar[i,j+9]]\n",
    "        else :\n",
    "            for j in range(6) :\n",
    "                d[ID][j].append(ar[i,j+9])\n",
    "\n",
    "    dfDico=pd.read_csv('dataCV3/user-nbRating_fold_'+str(fold)+'.csv')\n",
    "    dRatingsTrain={}\n",
    "    dRatingsTest={}\n",
    "    for index, row in dfDico.iterrows():\n",
    "        dRatingsTrain[row['userId']]=row['NBRatingTrain']\n",
    "        dRatingsTest[row['userId']]=row['NBRatingTest']\n",
    "    del dfDico\n",
    "\n",
    "    d2={}\n",
    "    for i in d:\n",
    "        d2[i]={}\n",
    "        for j in range(6):\n",
    "            d2[i][j]=rmse(d[i][j])\n",
    "\n",
    "    d3={}\n",
    "    for i in d:\n",
    "        d3[i]={}\n",
    "        for j in range(6):\n",
    "            d3[i][j]=avg(d[i][j])\n",
    "\n",
    "    listAR=list()\n",
    "    for i in d2 :\n",
    "        listAR.append(np.array([[int(i),int(dRatingsTrain[i]), int(dRatingsTest[i]),\n",
    "                                 d2[i][0], d2[i][1], d2[i][2], d2[i][3], d2[i][4], d2[i][5],\n",
    "                                 d3[i][0], d3[i][1], d3[i][2], d3[i][3], d3[i][4], d3[i][5]]]))\n",
    "    arRes=np.concatenate(listAR)\n",
    "    dfRes=pd.DataFrame({nameColumms[0]:arRes[:,0],nameColumms[1]:arRes[:,1],nameColumms[2]:arRes[:,2],nameColumms[3]:arRes[:,3],\n",
    "                        nameColumms[4]:arRes[:,4],nameColumms[5]:arRes[:,5],nameColumms[6]:arRes[:,6],nameColumms[7]:arRes[:,7],\n",
    "                        nameColumms[8]:arRes[:,8],nameColumms[9]:arRes[:,9],nameColumms[10]:arRes[:,10],nameColumms[11]:arRes[:,11],\n",
    "                        nameColumms[12]:arRes[:,12],nameColumms[13]:arRes[:,13],nameColumms[14]:arRes[:,14]})\n",
    "\n",
    "    dfRes.to_csv('data/uRMSE_uMAE_fold_'+str(fold)+'.csv',index=False)\n",
    "    listDfRes.append(dfRes)"
   ]
  },
  {
   "cell_type": "code",
   "execution_count": 28,
   "metadata": {},
   "outputs": [],
   "source": [
    "dfRes=pd.concat(listDfRes)\n",
    "dfRes.to_csv('data/uRMSE_uMAE_full.csv',index=False)"
   ]
  },
  {
   "cell_type": "code",
   "execution_count": 29,
   "metadata": {},
   "outputs": [
    {
     "data": {
      "text/html": [
       "<div>\n",
       "<style scoped>\n",
       "    .dataframe tbody tr th:only-of-type {\n",
       "        vertical-align: middle;\n",
       "    }\n",
       "\n",
       "    .dataframe tbody tr th {\n",
       "        vertical-align: top;\n",
       "    }\n",
       "\n",
       "    .dataframe thead th {\n",
       "        text-align: right;\n",
       "    }\n",
       "</style>\n",
       "<table border=\"1\" class=\"dataframe\">\n",
       "  <thead>\n",
       "    <tr style=\"text-align: right;\">\n",
       "      <th></th>\n",
       "      <th>UserId</th>\n",
       "      <th>Number of rated movies in the training dataset</th>\n",
       "      <th>Number of rated movies in the testing dataset</th>\n",
       "      <th>RMSE SVD, per user</th>\n",
       "      <th>RMSE NMF, per user</th>\n",
       "      <th>RMSE SlopeOne, per user</th>\n",
       "      <th>RMSE CoClustering, per user</th>\n",
       "      <th>RMSE NormalPredictor, per user</th>\n",
       "      <th>RMSE BaselineOnly, per user</th>\n",
       "      <th>MAE SVD, per user</th>\n",
       "      <th>MAE NMF, per user</th>\n",
       "      <th>MAE SlopeOne, per user</th>\n",
       "      <th>MAE CoClustering, per user</th>\n",
       "      <th>MAE NormalPredictor, per user</th>\n",
       "      <th>MAE BaselineOnly, per user</th>\n",
       "    </tr>\n",
       "  </thead>\n",
       "  <tbody>\n",
       "    <tr>\n",
       "      <th>0</th>\n",
       "      <td>123584.0</td>\n",
       "      <td>59.0</td>\n",
       "      <td>14.0</td>\n",
       "      <td>0.687660</td>\n",
       "      <td>0.717521</td>\n",
       "      <td>0.767314</td>\n",
       "      <td>0.632548</td>\n",
       "      <td>1.971980</td>\n",
       "      <td>0.812434</td>\n",
       "      <td>0.455423</td>\n",
       "      <td>0.543084</td>\n",
       "      <td>0.552585</td>\n",
       "      <td>0.471844</td>\n",
       "      <td>1.716962</td>\n",
       "      <td>0.627261</td>\n",
       "    </tr>\n",
       "    <tr>\n",
       "      <th>1</th>\n",
       "      <td>271812.0</td>\n",
       "      <td>19.0</td>\n",
       "      <td>4.0</td>\n",
       "      <td>0.966592</td>\n",
       "      <td>0.941997</td>\n",
       "      <td>0.989250</td>\n",
       "      <td>0.963240</td>\n",
       "      <td>1.626498</td>\n",
       "      <td>1.069648</td>\n",
       "      <td>0.812463</td>\n",
       "      <td>0.754611</td>\n",
       "      <td>0.793566</td>\n",
       "      <td>0.794991</td>\n",
       "      <td>1.357510</td>\n",
       "      <td>0.882982</td>\n",
       "    </tr>\n",
       "    <tr>\n",
       "      <th>2</th>\n",
       "      <td>48040.0</td>\n",
       "      <td>12.0</td>\n",
       "      <td>3.0</td>\n",
       "      <td>0.607444</td>\n",
       "      <td>0.645599</td>\n",
       "      <td>0.683285</td>\n",
       "      <td>0.635461</td>\n",
       "      <td>0.348450</td>\n",
       "      <td>0.515134</td>\n",
       "      <td>0.547612</td>\n",
       "      <td>0.644758</td>\n",
       "      <td>0.665884</td>\n",
       "      <td>0.449114</td>\n",
       "      <td>0.332764</td>\n",
       "      <td>0.426383</td>\n",
       "    </tr>\n",
       "    <tr>\n",
       "      <th>3</th>\n",
       "      <td>211727.0</td>\n",
       "      <td>9.0</td>\n",
       "      <td>1.0</td>\n",
       "      <td>0.476921</td>\n",
       "      <td>0.500245</td>\n",
       "      <td>0.749000</td>\n",
       "      <td>0.995428</td>\n",
       "      <td>0.097800</td>\n",
       "      <td>0.691819</td>\n",
       "      <td>0.476921</td>\n",
       "      <td>0.500245</td>\n",
       "      <td>0.749000</td>\n",
       "      <td>0.995428</td>\n",
       "      <td>0.097800</td>\n",
       "      <td>0.691819</td>\n",
       "    </tr>\n",
       "    <tr>\n",
       "      <th>4</th>\n",
       "      <td>153000.0</td>\n",
       "      <td>111.0</td>\n",
       "      <td>27.0</td>\n",
       "      <td>0.829110</td>\n",
       "      <td>0.795194</td>\n",
       "      <td>0.838632</td>\n",
       "      <td>0.848655</td>\n",
       "      <td>1.565201</td>\n",
       "      <td>0.796862</td>\n",
       "      <td>0.603365</td>\n",
       "      <td>0.579153</td>\n",
       "      <td>0.616916</td>\n",
       "      <td>0.628038</td>\n",
       "      <td>1.264826</td>\n",
       "      <td>0.597066</td>\n",
       "    </tr>\n",
       "  </tbody>\n",
       "</table>\n",
       "</div>"
      ],
      "text/plain": [
       "     UserId  Number of rated movies in the training dataset  \\\n",
       "0  123584.0                                            59.0   \n",
       "1  271812.0                                            19.0   \n",
       "2   48040.0                                            12.0   \n",
       "3  211727.0                                             9.0   \n",
       "4  153000.0                                           111.0   \n",
       "\n",
       "   Number of rated movies in the testing dataset  RMSE SVD, per user  \\\n",
       "0                                           14.0            0.687660   \n",
       "1                                            4.0            0.966592   \n",
       "2                                            3.0            0.607444   \n",
       "3                                            1.0            0.476921   \n",
       "4                                           27.0            0.829110   \n",
       "\n",
       "   RMSE NMF, per user  RMSE SlopeOne, per user  RMSE CoClustering, per user  \\\n",
       "0            0.717521                 0.767314                     0.632548   \n",
       "1            0.941997                 0.989250                     0.963240   \n",
       "2            0.645599                 0.683285                     0.635461   \n",
       "3            0.500245                 0.749000                     0.995428   \n",
       "4            0.795194                 0.838632                     0.848655   \n",
       "\n",
       "   RMSE NormalPredictor, per user  RMSE BaselineOnly, per user  \\\n",
       "0                        1.971980                     0.812434   \n",
       "1                        1.626498                     1.069648   \n",
       "2                        0.348450                     0.515134   \n",
       "3                        0.097800                     0.691819   \n",
       "4                        1.565201                     0.796862   \n",
       "\n",
       "   MAE SVD, per user  MAE NMF, per user  MAE SlopeOne, per user  \\\n",
       "0           0.455423           0.543084                0.552585   \n",
       "1           0.812463           0.754611                0.793566   \n",
       "2           0.547612           0.644758                0.665884   \n",
       "3           0.476921           0.500245                0.749000   \n",
       "4           0.603365           0.579153                0.616916   \n",
       "\n",
       "   MAE CoClustering, per user  MAE NormalPredictor, per user  \\\n",
       "0                    0.471844                       1.716962   \n",
       "1                    0.794991                       1.357510   \n",
       "2                    0.449114                       0.332764   \n",
       "3                    0.995428                       0.097800   \n",
       "4                    0.628038                       1.264826   \n",
       "\n",
       "   MAE BaselineOnly, per user  \n",
       "0                    0.627261  \n",
       "1                    0.882982  \n",
       "2                    0.426383  \n",
       "3                    0.691819  \n",
       "4                    0.597066  "
      ]
     },
     "execution_count": 29,
     "metadata": {},
     "output_type": "execute_result"
    }
   ],
   "source": [
    "dfRes.head()"
   ]
  },
  {
   "cell_type": "code",
   "execution_count": 22,
   "metadata": {},
   "outputs": [],
   "source": [
    "del d,d3,d2,df"
   ]
  },
  {
   "cell_type": "code",
   "execution_count": 30,
   "metadata": {},
   "outputs": [
    {
     "data": {
      "text/plain": [
       "693840"
      ]
     },
     "execution_count": 30,
     "metadata": {},
     "output_type": "execute_result"
    }
   ],
   "source": [
    "len(dfRes)"
   ]
  },
  {
   "cell_type": "code",
   "execution_count": 27,
   "metadata": {},
   "outputs": [
    {
     "name": "stdout",
     "output_type": "stream",
     "text": [
      "1368522\n",
      "1368522\n",
      "1368522\n",
      "1368522\n",
      "1475275\n",
      "1368522\n",
      "1368522\n",
      "1368522\n",
      "1368522\n",
      "1475275\n",
      "tot =  13898726\n"
     ]
    }
   ],
   "source": [
    "cpt=0\n",
    "for df in listDF :\n",
    "    print(len(df))\n",
    "    cpt+=len(df)\n",
    "\n",
    "    \n",
    "print(\"tot = \",cpt)"
   ]
  },
  {
   "cell_type": "code",
   "execution_count": 32,
   "metadata": {},
   "outputs": [
    {
     "name": "stdout",
     "output_type": "stream",
     "text": [
      "69384\n",
      "69384\n",
      "69384\n",
      "69384\n",
      "69384\n",
      "69384\n",
      "69384\n",
      "69384\n",
      "69384\n",
      "69384\n",
      "tot =  693840\n"
     ]
    }
   ],
   "source": [
    "cpt2=0\n",
    "lres=list()\n",
    "for fold in range(10):\n",
    "    dfTemp=pd.read_csv('data/uRMSE_uMAE_fold_'+str(fold)+'.csv')\n",
    "    print(len(dfTemp))\n",
    "    cpt2+=len(dfTemp)\n",
    "    lres.append(dfTemp)\n",
    "    \n",
    "print(\"tot = \",cpt2)"
   ]
  },
  {
   "cell_type": "code",
   "execution_count": null,
   "metadata": {},
   "outputs": [],
   "source": []
  },
  {
   "cell_type": "code",
   "execution_count": 33,
   "metadata": {},
   "outputs": [],
   "source": [
    "ar=dfRes.to_numpy()"
   ]
  },
  {
   "cell_type": "code",
   "execution_count": 34,
   "metadata": {},
   "outputs": [],
   "source": [
    "t=len(ar)\n",
    "d={}\n",
    "for i in range(t) :\n",
    "    ID=ar[i,1]\n",
    "    if ID not in d:\n",
    "        d[ID]={}\n",
    "        for j in range(6):\n",
    "            d[ID][j]=[ar[i,3+j]]\n",
    "    else :\n",
    "        for j in range(6):\n",
    "            d[ID][j].append(ar[i,3+j])"
   ]
  },
  {
   "cell_type": "code",
   "execution_count": 35,
   "metadata": {},
   "outputs": [],
   "source": [
    "d2={}\n",
    "for i in d:\n",
    "    d2[i]={}\n",
    "    for j in range(6):\n",
    "        d2[i][j]=avg(d[i][j])"
   ]
  },
  {
   "cell_type": "code",
   "execution_count": 36,
   "metadata": {},
   "outputs": [],
   "source": [
    "listAR=list()\n",
    "for i in d2 :\n",
    "    listAR.append(np.array([[int(i), d2[i][0], d2[i][1], d2[i][2], d2[i][3], d2[i][4], d2[i][5]]]))"
   ]
  },
  {
   "cell_type": "code",
   "execution_count": 37,
   "metadata": {},
   "outputs": [],
   "source": [
    "arRes=np.concatenate(listAR)"
   ]
  },
  {
   "cell_type": "code",
   "execution_count": 38,
   "metadata": {},
   "outputs": [],
   "source": [
    "nameColumms=['Number of rated movies']\n",
    "for name in algoListe[:6] :\n",
    "    nameColumms.append('avg RMSE '+name)"
   ]
  },
  {
   "cell_type": "code",
   "execution_count": 39,
   "metadata": {},
   "outputs": [],
   "source": [
    "dfRes=pd.DataFrame({nameColumms[0]:arRes[:,0],nameColumms[1]:arRes[:,1],nameColumms[2]:arRes[:,2],nameColumms[3]:arRes[:,3],\n",
    "                    nameColumms[4]:arRes[:,4],nameColumms[5]:arRes[:,5],nameColumms[6]:arRes[:,6]})"
   ]
  },
  {
   "cell_type": "code",
   "execution_count": 40,
   "metadata": {},
   "outputs": [
    {
     "data": {
      "text/html": [
       "<div>\n",
       "<style scoped>\n",
       "    .dataframe tbody tr th:only-of-type {\n",
       "        vertical-align: middle;\n",
       "    }\n",
       "\n",
       "    .dataframe tbody tr th {\n",
       "        vertical-align: top;\n",
       "    }\n",
       "\n",
       "    .dataframe thead th {\n",
       "        text-align: right;\n",
       "    }\n",
       "</style>\n",
       "<table border=\"1\" class=\"dataframe\">\n",
       "  <thead>\n",
       "    <tr style=\"text-align: right;\">\n",
       "      <th></th>\n",
       "      <th>Number of rated movies</th>\n",
       "      <th>avg RMSE SVD</th>\n",
       "      <th>avg RMSE NMF</th>\n",
       "      <th>avg RMSE SlopeOne</th>\n",
       "      <th>avg RMSE CoClustering</th>\n",
       "      <th>avg RMSE NormalPredictor</th>\n",
       "      <th>avg RMSE BaselineOnly</th>\n",
       "    </tr>\n",
       "  </thead>\n",
       "  <tbody>\n",
       "    <tr>\n",
       "      <th>0</th>\n",
       "      <td>59.0</td>\n",
       "      <td>0.802748</td>\n",
       "      <td>0.862846</td>\n",
       "      <td>0.851017</td>\n",
       "      <td>0.857406</td>\n",
       "      <td>1.435449</td>\n",
       "      <td>0.853857</td>\n",
       "    </tr>\n",
       "    <tr>\n",
       "      <th>1</th>\n",
       "      <td>19.0</td>\n",
       "      <td>0.826399</td>\n",
       "      <td>0.871345</td>\n",
       "      <td>0.850937</td>\n",
       "      <td>0.866425</td>\n",
       "      <td>1.398160</td>\n",
       "      <td>0.860194</td>\n",
       "    </tr>\n",
       "    <tr>\n",
       "      <th>2</th>\n",
       "      <td>12.0</td>\n",
       "      <td>0.896664</td>\n",
       "      <td>0.931939</td>\n",
       "      <td>0.912579</td>\n",
       "      <td>0.960325</td>\n",
       "      <td>1.411827</td>\n",
       "      <td>0.925131</td>\n",
       "    </tr>\n",
       "    <tr>\n",
       "      <th>3</th>\n",
       "      <td>9.0</td>\n",
       "      <td>0.812171</td>\n",
       "      <td>0.842517</td>\n",
       "      <td>0.821928</td>\n",
       "      <td>0.832217</td>\n",
       "      <td>1.273643</td>\n",
       "      <td>0.837821</td>\n",
       "    </tr>\n",
       "    <tr>\n",
       "      <th>4</th>\n",
       "      <td>111.0</td>\n",
       "      <td>0.765671</td>\n",
       "      <td>0.827285</td>\n",
       "      <td>0.818269</td>\n",
       "      <td>0.831242</td>\n",
       "      <td>1.390092</td>\n",
       "      <td>0.819402</td>\n",
       "    </tr>\n",
       "  </tbody>\n",
       "</table>\n",
       "</div>"
      ],
      "text/plain": [
       "   Number of rated movies  avg RMSE SVD  avg RMSE NMF  avg RMSE SlopeOne  \\\n",
       "0                    59.0      0.802748      0.862846           0.851017   \n",
       "1                    19.0      0.826399      0.871345           0.850937   \n",
       "2                    12.0      0.896664      0.931939           0.912579   \n",
       "3                     9.0      0.812171      0.842517           0.821928   \n",
       "4                   111.0      0.765671      0.827285           0.818269   \n",
       "\n",
       "   avg RMSE CoClustering  avg RMSE NormalPredictor  avg RMSE BaselineOnly  \n",
       "0               0.857406                  1.435449               0.853857  \n",
       "1               0.866425                  1.398160               0.860194  \n",
       "2               0.960325                  1.411827               0.925131  \n",
       "3               0.832217                  1.273643               0.837821  \n",
       "4               0.831242                  1.390092               0.819402  "
      ]
     },
     "execution_count": 40,
     "metadata": {},
     "output_type": "execute_result"
    }
   ],
   "source": [
    "dfRes.head()"
   ]
  },
  {
   "cell_type": "code",
   "execution_count": 41,
   "metadata": {},
   "outputs": [],
   "source": [
    "dfRes.to_csv('data/RMSEavg_cv.csv',index=False)"
   ]
  },
  {
   "cell_type": "code",
   "execution_count": null,
   "metadata": {},
   "outputs": [],
   "source": []
  }
 ],
 "metadata": {
  "kernelspec": {
   "display_name": "Python 3",
   "language": "python",
   "name": "python3"
  }
 },
 "nbformat": 4,
 "nbformat_minor": 2
}
