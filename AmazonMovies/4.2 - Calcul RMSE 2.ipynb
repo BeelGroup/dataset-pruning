{
 "cells": [
  {
   "cell_type": "code",
   "execution_count": 1,
   "metadata": {},
   "outputs": [],
   "source": [
    "from surprise import Dataset\n",
    "import numpy as np\n",
    "import matplotlib.pyplot as plt\n",
    "from surprise.model_selection import KFold\n",
    "from surprise import accuracy\n",
    "import pandas as pd\n",
    "from surprise import Dataset, evaluate, Reader, accuracy, Trainset\n",
    "from pathlib import Path"
   ]
  },
  {
   "cell_type": "code",
   "execution_count": 2,
   "metadata": {},
   "outputs": [],
   "source": [
    "from surprise import SVD\n",
    "from surprise import SVDpp\n",
    "from surprise import BaselineOnly\n",
    "from surprise import NMF\n",
    "from surprise import SlopeOne\n",
    "from surprise import CoClustering\n",
    "from surprise import NormalPredictor\n",
    "from surprise import KNNBasic\n",
    "from surprise import KNNWithMeans\n",
    "from surprise import KNNBaseline\n",
    "from surprise import KNNWithZScore"
   ]
  },
  {
   "cell_type": "code",
   "execution_count": 3,
   "metadata": {},
   "outputs": [],
   "source": [
    "dicoDfTest={}\n",
    "for fold in range(10):\n",
    "    dicoDfTest[fold]=pd.read_parquet('dataCV3/dfTest_fold_'+str(fold)+'.gzip')"
   ]
  },
  {
   "cell_type": "code",
   "execution_count": 4,
   "metadata": {},
   "outputs": [],
   "source": [
    "def listTestCV(fold) :    \n",
    "    testInte=list()\n",
    "    reader = Reader()\n",
    "    dfTest=pd.read_parquet('dataCV3/dfTest_fold_'+str(fold)+'.gzip')\n",
    "    arTest=dfTest.to_numpy()\n",
    "    data=Dataset.load_from_df(dfTest,reader) \n",
    "    testInte.append(data.build_full_trainset().build_testset())\n",
    "\n",
    "    df=pd.read_parquet('dataCV3/dfInf20_fold_'+str(fold)+'.gzip')\n",
    "    data=Dataset.load_from_df(df,reader) \n",
    "    testInte.append(data.build_full_trainset().build_testset())\n",
    "\n",
    "    df=pd.read_parquet('dataCV3/dfSup20_fold_'+str(fold)+'.gzip')\n",
    "    data=Dataset.load_from_df(df,reader) \n",
    "    testInte.append(data.build_full_trainset().build_testset())\n",
    "    \n",
    "    df=pd.read_parquet('dataCV3/dfOne.gzip')\n",
    "    data=Dataset.load_from_df(df,reader) \n",
    "    testInte.append(data.build_full_trainset().build_testset())\n",
    "\n",
    "    for j in range(10):\n",
    "        my_file = Path(\"dataCV3/df\"+inteName(j)+'_fold_'+str(fold)+'.gzip')\n",
    "        df=pd.read_parquet(my_file)\n",
    "        data=Dataset.load_from_df(df,reader) \n",
    "        testInte.append(data.build_full_trainset().build_testset())\n",
    "    for j in range(10,51,5):\n",
    "        my_file = Path(\"dataCV3/df\"+inteName(j)+'_fold_'+str(fold)+'.gzip')\n",
    "        df=pd.read_parquet(my_file)\n",
    "        data=Dataset.load_from_df(df,reader) \n",
    "        testInte.append(data.build_full_trainset().build_testset()) \n",
    "    return testInte"
   ]
  },
  {
   "cell_type": "code",
   "execution_count": 5,
   "metadata": {},
   "outputs": [],
   "source": [
    "def inteName(i):\n",
    "    if i==0:\n",
    "        return \"1-9\"\n",
    "    elif i<10:\n",
    "        return str(int(i*10))+\"-\"+str(int(i*10+9))\n",
    "    elif i>=50:\n",
    "        return 'sup500'\n",
    "    else :\n",
    "        return str(int(i*10))+\"-\"+str(int(i*10+49))"
   ]
  },
  {
   "cell_type": "code",
   "execution_count": 6,
   "metadata": {},
   "outputs": [],
   "source": [
    "def trainsetCV(fold):\n",
    "    dfTrain=pd.read_parquet('dataCV3/dfTrain_fold_'+str(fold)+'.gzip')\n",
    "    dfOne=pd.read_parquet('dataCV3/dfOne.gzip')\n",
    "    df=pd.concat([dfTrain,dfOne])\n",
    "    reader = Reader()\n",
    "    data=Dataset.load_from_df(df,reader)\n",
    "    train=data.build_full_trainset()\n",
    "    return train"
   ]
  },
  {
   "cell_type": "code",
   "execution_count": 7,
   "metadata": {},
   "outputs": [],
   "source": [
    "def algoSVD() :\n",
    "    algo=SVD()\n",
    "    return algo\n",
    "    \n",
    "def algoSVDpp() :\n",
    "    algo=SVDpp()\n",
    "    return algo\n",
    "\n",
    "def algoNMF() :\n",
    "    algo=NMF()\n",
    "    return algo\n",
    "\n",
    "def algoBaselineOnly() :\n",
    "    algo=BaselineOnly()\n",
    "    return algo\n",
    "\n",
    "def algoCoClustering() :\n",
    "    algo=CoClustering()\n",
    "    return algo\n",
    "\n",
    "def algoNormalPredictor() :\n",
    "    algo=NormalPredictor()\n",
    "    return algo\n",
    "\n",
    "def algoSlopeOne() :\n",
    "    algo=SlopeOne()\n",
    "    return algo\n",
    "\n",
    "def algoKNNBasic() :\n",
    "    algo=KNNBasic()\n",
    "    return algo\n",
    "\n",
    "def algoKNNWithMeans() :\n",
    "    algo=KNNWithMeans()\n",
    "    return algo\n",
    "\n",
    "def algoKNNBaseline() :\n",
    "    algo=KNNBaseline()\n",
    "    return algo\n",
    "\n",
    "def algoKNNWithZScore() :\n",
    "    algo=KNNWithZScore()\n",
    "    return algo"
   ]
  },
  {
   "cell_type": "code",
   "execution_count": 8,
   "metadata": {},
   "outputs": [],
   "source": [
    "algoChoice = {\"SVD\" : algoSVD,\n",
    "              \"SVDpp\" : algoSVDpp,\n",
    "              \"NMF\"  : algoNMF,\n",
    "              \"BaselineOnly\" : algoBaselineOnly,\n",
    "              \"CoClustering\" : algoCoClustering,\n",
    "              \"NormalPredictor\" : algoNormalPredictor,\n",
    "              \"SlopeOne\" : algoSlopeOne,\n",
    "              \"KNNBasic\" : algoKNNBasic,\n",
    "              \"KNNWithMeans\" : algoKNNWithMeans,\n",
    "              \"KNNBaseline\" : algoKNNBaseline,\n",
    "              \"KNNWithZScore\" : algoKNNWithZScore}"
   ]
  },
  {
   "cell_type": "code",
   "execution_count": 9,
   "metadata": {},
   "outputs": [],
   "source": [
    "algoListe=[\"BaselineOnly\", \"SVD\", \"NMF\", \"SlopeOne\", \n",
    "           \"CoClustering\", \"NormalPredictor\", \"SVDpp\",\n",
    "           \"KNNBasic\", \"KNNWithMeans\", \"KNNBaseline\", \"KNNWithZScore\"]"
   ]
  },
  {
   "cell_type": "code",
   "execution_count": 10,
   "metadata": {},
   "outputs": [],
   "source": [
    "def ajouterResultat(algo,res,listTest,algoName):\n",
    "    rmse=list()\n",
    "    mae=list()\n",
    "    for i in listTest:\n",
    "        predictions = algo.test(i)\n",
    "        rmse.append(accuracy.rmse(predictions, verbose=False))\n",
    "        mae.append(accuracy.mae(predictions, verbose=False))\n",
    "    res[algoName]=rmse+mae"
   ]
  },
  {
   "cell_type": "code",
   "execution_count": 11,
   "metadata": {},
   "outputs": [],
   "source": [
    "def listPredictions(ar,algo):\n",
    "    l=list()\n",
    "    t=len(ar)\n",
    "    for i in range(t):\n",
    "        l.append(algo.predict(ar[i,0],ar[i,1],verbose=False)[3])\n",
    "    return l"
   ]
  },
  {
   "cell_type": "code",
   "execution_count": 12,
   "metadata": {},
   "outputs": [],
   "source": [
    "results={}"
   ]
  },
  {
   "cell_type": "code",
   "execution_count": 13,
   "metadata": {},
   "outputs": [
    {
     "name": "stdout",
     "output_type": "stream",
     "text": [
      "--==   BaselineOnly   ==--\n",
      "tour  0  de cross val\n",
      "-- Train --\n",
      "Estimating biases using als...\n",
      "-- Test --\n",
      "tour  1  de cross val\n",
      "-- Train --\n",
      "Estimating biases using als...\n",
      "-- Test --\n"
     ]
    },
    {
     "ename": "KeyboardInterrupt",
     "evalue": "",
     "output_type": "error",
     "traceback": [
      "\u001b[1;31m---------------------------------------------------------------------------\u001b[0m",
      "\u001b[1;31mKeyboardInterrupt\u001b[0m                         Traceback (most recent call last)",
      "\u001b[1;32m<ipython-input-13-7df4e36e9031>\u001b[0m in \u001b[0;36m<module>\u001b[1;34m\u001b[0m\n\u001b[0;32m      8\u001b[0m         \u001b[0malgo\u001b[0m\u001b[1;33m.\u001b[0m\u001b[0mfit\u001b[0m\u001b[1;33m(\u001b[0m\u001b[0mtrain\u001b[0m\u001b[1;33m)\u001b[0m\u001b[1;33m\u001b[0m\u001b[0m\n\u001b[0;32m      9\u001b[0m         \u001b[0mprint\u001b[0m\u001b[1;33m(\u001b[0m\u001b[1;34m\"-- Test --\"\u001b[0m\u001b[1;33m)\u001b[0m\u001b[1;33m\u001b[0m\u001b[0m\n\u001b[1;32m---> 10\u001b[1;33m         \u001b[0majouterResultat\u001b[0m\u001b[1;33m(\u001b[0m\u001b[0malgo\u001b[0m\u001b[1;33m,\u001b[0m\u001b[0mresults\u001b[0m\u001b[1;33m,\u001b[0m\u001b[0mlistTestCV\u001b[0m\u001b[1;33m(\u001b[0m\u001b[0mfold\u001b[0m\u001b[1;33m)\u001b[0m\u001b[1;33m,\u001b[0m\u001b[0mname\u001b[0m\u001b[1;33m+\u001b[0m\u001b[0mstr\u001b[0m\u001b[1;33m(\u001b[0m\u001b[0mfold\u001b[0m\u001b[1;33m)\u001b[0m\u001b[1;33m)\u001b[0m\u001b[1;33m\u001b[0m\u001b[0m\n\u001b[0m\u001b[0;32m     11\u001b[0m         \u001b[0mdicoDfTest\u001b[0m\u001b[1;33m[\u001b[0m\u001b[0mfold\u001b[0m\u001b[1;33m]\u001b[0m\u001b[1;33m[\u001b[0m\u001b[1;34m\"Predicted ratings \"\u001b[0m\u001b[1;33m+\u001b[0m\u001b[0mname\u001b[0m\u001b[1;33m]\u001b[0m\u001b[1;33m=\u001b[0m\u001b[0mlistPredictions\u001b[0m\u001b[1;33m(\u001b[0m\u001b[0mdicoDfTest\u001b[0m\u001b[1;33m[\u001b[0m\u001b[0mfold\u001b[0m\u001b[1;33m]\u001b[0m\u001b[1;33m.\u001b[0m\u001b[0mto_numpy\u001b[0m\u001b[1;33m(\u001b[0m\u001b[1;33m)\u001b[0m\u001b[1;33m,\u001b[0m\u001b[0malgo\u001b[0m\u001b[1;33m)\u001b[0m\u001b[1;33m\u001b[0m\u001b[0m\n",
      "\u001b[1;32m<ipython-input-10-16fa35cbd588>\u001b[0m in \u001b[0;36majouterResultat\u001b[1;34m(algo, res, listTest, algoName)\u001b[0m\n\u001b[0;32m      3\u001b[0m     \u001b[0mmae\u001b[0m\u001b[1;33m=\u001b[0m\u001b[0mlist\u001b[0m\u001b[1;33m(\u001b[0m\u001b[1;33m)\u001b[0m\u001b[1;33m\u001b[0m\u001b[0m\n\u001b[0;32m      4\u001b[0m     \u001b[1;32mfor\u001b[0m \u001b[0mi\u001b[0m \u001b[1;32min\u001b[0m \u001b[0mlistTest\u001b[0m\u001b[1;33m:\u001b[0m\u001b[1;33m\u001b[0m\u001b[0m\n\u001b[1;32m----> 5\u001b[1;33m         \u001b[0mpredictions\u001b[0m \u001b[1;33m=\u001b[0m \u001b[0malgo\u001b[0m\u001b[1;33m.\u001b[0m\u001b[0mtest\u001b[0m\u001b[1;33m(\u001b[0m\u001b[0mi\u001b[0m\u001b[1;33m)\u001b[0m\u001b[1;33m\u001b[0m\u001b[0m\n\u001b[0m\u001b[0;32m      6\u001b[0m         \u001b[0mrmse\u001b[0m\u001b[1;33m.\u001b[0m\u001b[0mappend\u001b[0m\u001b[1;33m(\u001b[0m\u001b[0maccuracy\u001b[0m\u001b[1;33m.\u001b[0m\u001b[0mrmse\u001b[0m\u001b[1;33m(\u001b[0m\u001b[0mpredictions\u001b[0m\u001b[1;33m,\u001b[0m \u001b[0mverbose\u001b[0m\u001b[1;33m=\u001b[0m\u001b[1;32mFalse\u001b[0m\u001b[1;33m)\u001b[0m\u001b[1;33m)\u001b[0m\u001b[1;33m\u001b[0m\u001b[0m\n\u001b[0;32m      7\u001b[0m         \u001b[0mmae\u001b[0m\u001b[1;33m.\u001b[0m\u001b[0mappend\u001b[0m\u001b[1;33m(\u001b[0m\u001b[0maccuracy\u001b[0m\u001b[1;33m.\u001b[0m\u001b[0mmae\u001b[0m\u001b[1;33m(\u001b[0m\u001b[0mpredictions\u001b[0m\u001b[1;33m,\u001b[0m \u001b[0mverbose\u001b[0m\u001b[1;33m=\u001b[0m\u001b[1;32mFalse\u001b[0m\u001b[1;33m)\u001b[0m\u001b[1;33m)\u001b[0m\u001b[1;33m\u001b[0m\u001b[0m\n",
      "\u001b[1;32m~\\Miniconda3\\lib\\site-packages\\surprise\\prediction_algorithms\\algo_base.py\u001b[0m in \u001b[0;36mtest\u001b[1;34m(self, testset, verbose)\u001b[0m\n\u001b[0;32m    210\u001b[0m                                     \u001b[0mr_ui_trans\u001b[0m \u001b[1;33m-\u001b[0m \u001b[0mself\u001b[0m\u001b[1;33m.\u001b[0m\u001b[0mtrainset\u001b[0m\u001b[1;33m.\u001b[0m\u001b[0moffset\u001b[0m\u001b[1;33m,\u001b[0m\u001b[1;33m\u001b[0m\u001b[0m\n\u001b[0;32m    211\u001b[0m                                     verbose=verbose)\n\u001b[1;32m--> 212\u001b[1;33m                        for (uid, iid, r_ui_trans) in testset]\n\u001b[0m\u001b[0;32m    213\u001b[0m         \u001b[1;32mreturn\u001b[0m \u001b[0mpredictions\u001b[0m\u001b[1;33m\u001b[0m\u001b[0m\n\u001b[0;32m    214\u001b[0m \u001b[1;33m\u001b[0m\u001b[0m\n",
      "\u001b[1;32m~\\Miniconda3\\lib\\site-packages\\surprise\\prediction_algorithms\\algo_base.py\u001b[0m in \u001b[0;36m<listcomp>\u001b[1;34m(.0)\u001b[0m\n\u001b[0;32m    210\u001b[0m                                     \u001b[0mr_ui_trans\u001b[0m \u001b[1;33m-\u001b[0m \u001b[0mself\u001b[0m\u001b[1;33m.\u001b[0m\u001b[0mtrainset\u001b[0m\u001b[1;33m.\u001b[0m\u001b[0moffset\u001b[0m\u001b[1;33m,\u001b[0m\u001b[1;33m\u001b[0m\u001b[0m\n\u001b[0;32m    211\u001b[0m                                     verbose=verbose)\n\u001b[1;32m--> 212\u001b[1;33m                        for (uid, iid, r_ui_trans) in testset]\n\u001b[0m\u001b[0;32m    213\u001b[0m         \u001b[1;32mreturn\u001b[0m \u001b[0mpredictions\u001b[0m\u001b[1;33m\u001b[0m\u001b[0m\n\u001b[0;32m    214\u001b[0m \u001b[1;33m\u001b[0m\u001b[0m\n",
      "\u001b[1;32m~\\Miniconda3\\lib\\site-packages\\surprise\\prediction_algorithms\\algo_base.py\u001b[0m in \u001b[0;36mpredict\u001b[1;34m(self, uid, iid, r_ui, clip, verbose)\u001b[0m\n\u001b[0;32m    165\u001b[0m             \u001b[0mlower_bound\u001b[0m\u001b[1;33m,\u001b[0m \u001b[0mhigher_bound\u001b[0m \u001b[1;33m=\u001b[0m \u001b[0mself\u001b[0m\u001b[1;33m.\u001b[0m\u001b[0mtrainset\u001b[0m\u001b[1;33m.\u001b[0m\u001b[0mrating_scale\u001b[0m\u001b[1;33m\u001b[0m\u001b[0m\n\u001b[0;32m    166\u001b[0m             \u001b[0mest\u001b[0m \u001b[1;33m=\u001b[0m \u001b[0mmin\u001b[0m\u001b[1;33m(\u001b[0m\u001b[0mhigher_bound\u001b[0m\u001b[1;33m,\u001b[0m \u001b[0mest\u001b[0m\u001b[1;33m)\u001b[0m\u001b[1;33m\u001b[0m\u001b[0m\n\u001b[1;32m--> 167\u001b[1;33m             \u001b[0mest\u001b[0m \u001b[1;33m=\u001b[0m \u001b[0mmax\u001b[0m\u001b[1;33m(\u001b[0m\u001b[0mlower_bound\u001b[0m\u001b[1;33m,\u001b[0m \u001b[0mest\u001b[0m\u001b[1;33m)\u001b[0m\u001b[1;33m\u001b[0m\u001b[0m\n\u001b[0m\u001b[0;32m    168\u001b[0m \u001b[1;33m\u001b[0m\u001b[0m\n\u001b[0;32m    169\u001b[0m         \u001b[0mpred\u001b[0m \u001b[1;33m=\u001b[0m \u001b[0mPrediction\u001b[0m\u001b[1;33m(\u001b[0m\u001b[0muid\u001b[0m\u001b[1;33m,\u001b[0m \u001b[0miid\u001b[0m\u001b[1;33m,\u001b[0m \u001b[0mr_ui\u001b[0m\u001b[1;33m,\u001b[0m \u001b[0mest\u001b[0m\u001b[1;33m,\u001b[0m \u001b[0mdetails\u001b[0m\u001b[1;33m)\u001b[0m\u001b[1;33m\u001b[0m\u001b[0m\n",
      "\u001b[1;31mKeyboardInterrupt\u001b[0m: "
     ]
    }
   ],
   "source": [
    "for name in algoListe[:6] :\n",
    "    print(\"--==  \",name,\"  ==--\")\n",
    "    for fold in range(10): \n",
    "        print(\"tour \",fold,\" de cross val\")\n",
    "        algo=algoChoice[name]()\n",
    "        print(\"-- Train --\")\n",
    "        train=trainsetCV(fold)\n",
    "        algo.fit(train)\n",
    "        print(\"-- Test --\")\n",
    "        ajouterResultat(algo,results,listTestCV(fold),name+str(fold))\n",
    "        dicoDfTest[fold][\"Predicted ratings \"+name]=listPredictions(dicoDfTest[fold].to_numpy(),algo)"
   ]
  },
  {
   "cell_type": "code",
   "execution_count": 16,
   "metadata": {},
   "outputs": [],
   "source": [
    "lRMSEname=list()\n",
    "lMAEname=list()\n",
    "for i in range(10):\n",
    "    lRMSEname.append(\"RMSE_\"+inteName(i))\n",
    "    lMAEname.append(\"MAE_\"+inteName(i))\n",
    "for i in range(10,51,5):\n",
    "    lRMSEname.append(\"RMSE_\"+inteName(i))\n",
    "    lMAEname.append(\"MAE_\"+inteName(i))\n",
    "\n",
    "nameColumms=[\"algoName\",\"RMSE_All\",\"RMSE_<20\",\"RMSE_20+\",\"RMSE_One\"]+lRMSEname+[\"MAE_All\",\"MAE_<20\",\"MAE_20+\",\"MAE_One\"]+lMAEname"
   ]
  },
  {
   "cell_type": "code",
   "execution_count": 17,
   "metadata": {},
   "outputs": [],
   "source": [
    "dfRes=pd.DataFrame(columns =nameColumms)\n",
    "for key in results:\n",
    "    dfRes.loc[len(dfRes)]=[key]+results[key]\n",
    "dfRes.to_csv('data/resultRMSEbyInterval_Test.csv',index=False)"
   ]
  },
  {
   "cell_type": "code",
   "execution_count": 16,
   "metadata": {},
   "outputs": [],
   "source": [
    "for i in dicoDfTest :\n",
    "    dicoDfTest[i].to_csv('data/prediction_1_fold_'+str(i)+'.csv',index=False)"
   ]
  },
  {
   "cell_type": "code",
   "execution_count": 17,
   "metadata": {},
   "outputs": [],
   "source": [
    "df=pd.concat(dicoDfTest.values())\n",
    "df.to_csv('data/prediction_1_full.csv',index=False)"
   ]
  },
  {
   "cell_type": "code",
   "execution_count": 15,
   "metadata": {},
   "outputs": [
    {
     "data": {
      "text/plain": [
       "{'BaselineOnly0': [1.0660501741390291,\n",
       "  1.0844979595545798,\n",
       "  0.9914294754870071,\n",
       "  1.0911941460224504,\n",
       "  1.0892008189779143,\n",
       "  1.0380674943227841,\n",
       "  1.0347337973457769,\n",
       "  1.0317709701596758,\n",
       "  1.029029771126853,\n",
       "  1.019374271938232,\n",
       "  1.0564398504238854,\n",
       "  0.9984069024156409,\n",
       "  1.0205885665678036,\n",
       "  0.9795914857566744,\n",
       "  0.9816161395834235,\n",
       "  0.977207991999029,\n",
       "  0.9391164891812268,\n",
       "  0.9228812676684662,\n",
       "  1.0014427499619083,\n",
       "  0.9118899282219288,\n",
       "  0.9266218080510276,\n",
       "  0.9555168361586461,\n",
       "  0.9105785973385787,\n",
       "  0.8014110365297255,\n",
       "  0.8147081164699729,\n",
       "  0.7499524641651711,\n",
       "  0.8097403616558407,\n",
       "  0.8181073515152826,\n",
       "  0.7819375488436139,\n",
       "  0.7746795419454678,\n",
       "  0.7740662156861912,\n",
       "  0.7754238162253285,\n",
       "  0.7684613637079133,\n",
       "  0.7914545633532017,\n",
       "  0.7581525675746659,\n",
       "  0.7815789007031697,\n",
       "  0.7428944768216044,\n",
       "  0.7396801422909339,\n",
       "  0.7495567265770321,\n",
       "  0.7047962610586731,\n",
       "  0.7080951955886197,\n",
       "  0.7689910615391644,\n",
       "  0.6931165976750234,\n",
       "  0.7191118382041576,\n",
       "  0.7568391331894382,\n",
       "  0.7002743994806794]}"
      ]
     },
     "execution_count": 15,
     "metadata": {},
     "output_type": "execute_result"
    }
   ],
   "source": [
    "results"
   ]
  },
  {
   "cell_type": "code",
   "execution_count": null,
   "metadata": {},
   "outputs": [],
   "source": []
  }
 ],
 "metadata": {
  "kernelspec": {
   "display_name": "Python 3",
   "language": "python",
   "name": "python3"
  },
  "language_info": {
   "codemirror_mode": {
    "name": "ipython",
    "version": 3
   },
   "file_extension": ".py",
   "mimetype": "text/x-python",
   "name": "python",
   "nbconvert_exporter": "python",
   "pygments_lexer": "ipython3",
   "version": "3.6.3"
  }
 },
 "nbformat": 4,
 "nbformat_minor": 2
}
