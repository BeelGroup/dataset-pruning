{
 "cells": [
  {
   "cell_type": "markdown",
   "metadata": {},
   "source": [
    "# Number of ratings for each user"
   ]
  },
  {
   "cell_type": "markdown",
   "metadata": {},
   "source": [
    "### Importing library"
   ]
  },
  {
   "cell_type": "code",
   "execution_count": 1,
   "metadata": {},
   "outputs": [],
   "source": [
    "import pandas as pd\n",
    "import numpy as np\n",
    "import matplotlib.pyplot as plt"
   ]
  },
  {
   "cell_type": "markdown",
   "metadata": {},
   "source": [
    "### Importing the dataset"
   ]
  },
  {
   "cell_type": "code",
   "execution_count": 2,
   "metadata": {},
   "outputs": [
    {
     "data": {
      "text/html": [
       "<div>\n",
       "<style scoped>\n",
       "    .dataframe tbody tr th:only-of-type {\n",
       "        vertical-align: middle;\n",
       "    }\n",
       "\n",
       "    .dataframe tbody tr th {\n",
       "        vertical-align: top;\n",
       "    }\n",
       "\n",
       "    .dataframe thead th {\n",
       "        text-align: right;\n",
       "    }\n",
       "</style>\n",
       "<table border=\"1\" class=\"dataframe\">\n",
       "  <thead>\n",
       "    <tr style=\"text-align: right;\">\n",
       "      <th></th>\n",
       "      <th>userId</th>\n",
       "      <th>itemId</th>\n",
       "      <th>rating</th>\n",
       "    </tr>\n",
       "  </thead>\n",
       "  <tbody>\n",
       "    <tr>\n",
       "      <th>0</th>\n",
       "      <td>AKM1MP6P0OYPR</td>\n",
       "      <td>0132793040</td>\n",
       "      <td>5.0</td>\n",
       "    </tr>\n",
       "    <tr>\n",
       "      <th>1</th>\n",
       "      <td>A2CX7LUOHB2NDG</td>\n",
       "      <td>0321732944</td>\n",
       "      <td>5.0</td>\n",
       "    </tr>\n",
       "    <tr>\n",
       "      <th>2</th>\n",
       "      <td>A2NWSAGRHCP8N5</td>\n",
       "      <td>0439886341</td>\n",
       "      <td>1.0</td>\n",
       "    </tr>\n",
       "    <tr>\n",
       "      <th>3</th>\n",
       "      <td>A2WNBOD3WNDNKT</td>\n",
       "      <td>0439886341</td>\n",
       "      <td>3.0</td>\n",
       "    </tr>\n",
       "    <tr>\n",
       "      <th>4</th>\n",
       "      <td>A1GI0U4ZRJA8WN</td>\n",
       "      <td>0439886341</td>\n",
       "      <td>1.0</td>\n",
       "    </tr>\n",
       "  </tbody>\n",
       "</table>\n",
       "</div>"
      ],
      "text/plain": [
       "           userId      itemId  rating\n",
       "0   AKM1MP6P0OYPR  0132793040     5.0\n",
       "1  A2CX7LUOHB2NDG  0321732944     5.0\n",
       "2  A2NWSAGRHCP8N5  0439886341     1.0\n",
       "3  A2WNBOD3WNDNKT  0439886341     3.0\n",
       "4  A1GI0U4ZRJA8WN  0439886341     1.0"
      ]
     },
     "execution_count": 2,
     "metadata": {},
     "output_type": "execute_result"
    }
   ],
   "source": [
    "df= pd.read_parquet('data/ratings.gzip')\n",
    "ar=df.to_numpy()\n",
    "df.head()"
   ]
  },
  {
   "cell_type": "markdown",
   "metadata": {},
   "source": [
    "I count the number of ratings for each user and i put there results in dictionary"
   ]
  },
  {
   "cell_type": "code",
   "execution_count": null,
   "metadata": {},
   "outputs": [],
   "source": [
    "d={}\n",
    "t=len(ar)\n",
    "for i in range(t):\n",
    "    if ar[i,0] in d :\n",
    "        d[ar[i,0]]+=1\n",
    "    else :\n",
    "        d[ar[i,0]]=1"
   ]
  },
  {
   "cell_type": "markdown",
   "metadata": {},
   "source": [
    "I save there results because i will need them later"
   ]
  },
  {
   "cell_type": "code",
   "execution_count": null,
   "metadata": {},
   "outputs": [],
   "source": [
    "ID=list(d.keys())\n",
    "NB=list(d.values())\n",
    "dfDico = pd.DataFrame({'userId' : ID, 'NBRating' : NB})\n",
    "dfDico.to_csv('data/user-nbRating.csv',index =False)\n",
    "del ID,NB,dfDico"
   ]
  },
  {
   "cell_type": "markdown",
   "metadata": {},
   "source": [
    "I count how many user had vot x time"
   ]
  },
  {
   "cell_type": "code",
   "execution_count": null,
   "metadata": {},
   "outputs": [],
   "source": [
    "d2={}\n",
    "for key, val in d.items():\n",
    "    if val in d2 :\n",
    "        d2[val]+=1\n",
    "    else :\n",
    "        d2[val]=1"
   ]
  },
  {
   "cell_type": "markdown",
   "metadata": {},
   "source": [
    "this fuction is made to create a dictionary whith the number of user in each interval"
   ]
  },
  {
   "cell_type": "markdown",
   "metadata": {},
   "source": [
    "By interval I mean People who are voting between a times and b times"
   ]
  },
  {
   "cell_type": "markdown",
   "metadata": {},
   "source": [
    "the values in the dictionary are a tuple whith the interval (\"a-b\") and the number of user"
   ]
  },
  {
   "cell_type": "code",
   "execution_count": null,
   "metadata": {},
   "outputs": [],
   "source": [
    "def dicoInterval(d2,size):\n",
    "    l=list(d2.keys())\n",
    "    mini=min(l)\n",
    "    maxi=max(l)\n",
    "    cpt=0\n",
    "    d3={}\n",
    "    while(cpt*size<=maxi):\n",
    "        d3[cpt]=(str(cpt*size)+\"-\"+str(cpt*size-1+size),0)\n",
    "        cpt+=1\n",
    "        \n",
    "    \n",
    "    for key, val in d2.items():\n",
    "        ind=key//size\n",
    "        (a,b)=d3[ind]\n",
    "        b+=val\n",
    "        d3[ind]=(a,b)\n",
    "    return d3"
   ]
  },
  {
   "cell_type": "code",
   "execution_count": null,
   "metadata": {},
   "outputs": [],
   "source": [
    "d3=dicoInterval(d2,10)"
   ]
  },
  {
   "cell_type": "markdown",
   "metadata": {},
   "source": [
    "This algorithm create a last interval like \">500\""
   ]
  },
  {
   "cell_type": "code",
   "execution_count": null,
   "metadata": {},
   "outputs": [],
   "source": [
    "def dicoIntervalEnd(d,sup,size):\n",
    "    d2={}\n",
    "    maxi=sup//size\n",
    "    for key, val in d.items():\n",
    "        if(key<maxi):\n",
    "            d2[key]=val\n",
    "        elif maxi in d2 :\n",
    "            (a,b)=d2[maxi]\n",
    "            (c,d)=val\n",
    "            b+=d\n",
    "            d2[maxi]=(a,b)\n",
    "        else :\n",
    "            d2[maxi]=(\">\"+str(sup),int(0))\n",
    "            \n",
    "    return d2"
   ]
  },
  {
   "cell_type": "code",
   "execution_count": null,
   "metadata": {},
   "outputs": [],
   "source": [
    "d3=dicoTrancheFin(d3,500,10)"
   ]
  },
  {
   "cell_type": "markdown",
   "metadata": {},
   "source": [
    "### plot the chart"
   ]
  },
  {
   "cell_type": "code",
   "execution_count": null,
   "metadata": {},
   "outputs": [],
   "source": [
    "ind = np.arange(len(NBRating)) \n",
    "width = 0.7\n",
    "\n",
    "fig, ax = plt.subplots(figsize = (120,10))\n",
    "ax.bar(ind,NBUser,width,color='SkyBlue')\n",
    "ax.set_ylabel('Number of User')\n",
    "ax.set_xlabel('Number of Rating')\n",
    "ax.set_xticks(ind)\n",
    "ax.set_xticklabels(NBRating)\n",
    "ax.legend()  "
   ]
  },
  {
   "cell_type": "markdown",
   "metadata": {},
   "source": [
    "#### save the figure"
   ]
  },
  {
   "cell_type": "code",
   "execution_count": null,
   "metadata": {},
   "outputs": [],
   "source": [
    "fig.savefig('fig/Repartion.png')"
   ]
  },
  {
   "cell_type": "code",
   "execution_count": null,
   "metadata": {},
   "outputs": [],
   "source": [
    "dfRepartition = pd.DataFrame({'NBRating' : NBRating, 'NBUser' : NBUser})\n",
    "dfRepartition.to_csv('data/repartition.csv',index =False,sep='\\t')"
   ]
  }
 ],
 "metadata": {
  "kernelspec": {
   "display_name": "Python 3",
   "language": "python",
   "name": "python3"
  },
  "language_info": {
   "codemirror_mode": {
    "name": "ipython",
    "version": 3
   },
   "file_extension": ".py",
   "mimetype": "text/x-python",
   "name": "python",
   "nbconvert_exporter": "python",
   "pygments_lexer": "ipython3",
   "version": "3.6.3"
  }
 },
 "nbformat": 4,
 "nbformat_minor": 2
}
