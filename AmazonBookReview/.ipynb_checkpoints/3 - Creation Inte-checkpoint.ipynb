{
 "cells": [
  {
   "cell_type": "code",
   "execution_count": 1,
   "metadata": {},
   "outputs": [],
   "source": [
    "import pandas as pd\n",
    "import numpy as np\n",
    "import os.path\n",
    "import os\n",
    "from random import *"
   ]
  },
  {
   "cell_type": "code",
   "execution_count": 2,
   "metadata": {},
   "outputs": [
    {
     "data": {
      "text/html": [
       "<div>\n",
       "<style scoped>\n",
       "    .dataframe tbody tr th:only-of-type {\n",
       "        vertical-align: middle;\n",
       "    }\n",
       "\n",
       "    .dataframe tbody tr th {\n",
       "        vertical-align: top;\n",
       "    }\n",
       "\n",
       "    .dataframe thead th {\n",
       "        text-align: right;\n",
       "    }\n",
       "</style>\n",
       "<table border=\"1\" class=\"dataframe\">\n",
       "  <thead>\n",
       "    <tr style=\"text-align: right;\">\n",
       "      <th></th>\n",
       "      <th>userId</th>\n",
       "      <th>movieId</th>\n",
       "      <th>itemId</th>\n",
       "    </tr>\n",
       "  </thead>\n",
       "  <tbody>\n",
       "    <tr>\n",
       "      <th>0</th>\n",
       "      <td>1</td>\n",
       "      <td>0000000116</td>\n",
       "      <td>4.0</td>\n",
       "    </tr>\n",
       "    <tr>\n",
       "      <th>1</th>\n",
       "      <td>1</td>\n",
       "      <td>0553107755</td>\n",
       "      <td>5.0</td>\n",
       "    </tr>\n",
       "    <tr>\n",
       "      <th>2</th>\n",
       "      <td>2</td>\n",
       "      <td>0000000116</td>\n",
       "      <td>1.0</td>\n",
       "    </tr>\n",
       "    <tr>\n",
       "      <th>3</th>\n",
       "      <td>2</td>\n",
       "      <td>0553562738</td>\n",
       "      <td>1.0</td>\n",
       "    </tr>\n",
       "    <tr>\n",
       "      <th>4</th>\n",
       "      <td>2</td>\n",
       "      <td>0553588958</td>\n",
       "      <td>3.0</td>\n",
       "    </tr>\n",
       "  </tbody>\n",
       "</table>\n",
       "</div>"
      ],
      "text/plain": [
       "  userId     movieId itemId\n",
       "0      1  0000000116    4.0\n",
       "1      1  0553107755    5.0\n",
       "2      2  0000000116    1.0\n",
       "3      2  0553562738    1.0\n",
       "4      2  0553588958    3.0"
      ]
     },
     "execution_count": 2,
     "metadata": {},
     "output_type": "execute_result"
    }
   ],
   "source": [
    "df=pd.read_parquet('data/ratings.gzip')\n",
    "df.head()"
   ]
  },
  {
   "cell_type": "code",
   "execution_count": 3,
   "metadata": {},
   "outputs": [],
   "source": [
    "ar=df.to_numpy()"
   ]
  },
  {
   "cell_type": "code",
   "execution_count": 4,
   "metadata": {},
   "outputs": [
    {
     "data": {
      "text/plain": [
       "22507155"
      ]
     },
     "execution_count": 4,
     "metadata": {},
     "output_type": "execute_result"
    }
   ],
   "source": [
    "len(df)"
   ]
  },
  {
   "cell_type": "code",
   "execution_count": 5,
   "metadata": {},
   "outputs": [],
   "source": [
    "def inteName2(i):\n",
    "    if i==0:\n",
    "        return \"1-9\"\n",
    "    elif i<10:\n",
    "        return str(int(i*10))+\"-\"+str(int(i*10+9))\n",
    "    elif i>=50:\n",
    "        return 'sup500'\n",
    "    else :\n",
    "        return str(int(i*10))+\"-\"+str(int(i*10+49))"
   ]
  },
  {
   "cell_type": "code",
   "execution_count": 4,
   "metadata": {},
   "outputs": [],
   "source": [
    "def inteName(i):\n",
    "    if i==0:\n",
    "        return \"1-9\"\n",
    "    else :\n",
    "        return str(int(i*10))+\"-\"+str(int(i*10+9))"
   ]
  },
  {
   "cell_type": "code",
   "execution_count": 7,
   "metadata": {},
   "outputs": [],
   "source": [
    "def nextUser(ar,l):\n",
    "    userID=ar[l,0]\n",
    "    t=len(ar)\n",
    "    nxt=l+1\n",
    "    while((nxt<t)and(ar[nxt,0]==userID)):\n",
    "        nxt+=1\n",
    "    return nxt-1"
   ]
  },
  {
   "cell_type": "code",
   "execution_count": 8,
   "metadata": {},
   "outputs": [],
   "source": [
    "def listInteTestInf10(l):\n",
    "    listInte=list()\n",
    "    size=len(l)\n",
    "    cpt=0\n",
    "    \n",
    "    if size ==10:\n",
    "        for i in range(size):\n",
    "            listInte.append(l[i])\n",
    "            shuffle(listInte)\n",
    "        return listInte\n",
    "    \n",
    "    while (cpt+size<10) :\n",
    "        for i in range(size):\n",
    "            listInte.append(l[i])\n",
    "            cpt+=1\n",
    "    if cpt!=10:\n",
    "        for i in range(10-cpt):\n",
    "            listInte.append(l[randint(0, size-1)])\n",
    "    shuffle(listInte)\n",
    "    return listInte"
   ]
  },
  {
   "cell_type": "code",
   "execution_count": 9,
   "metadata": {},
   "outputs": [],
   "source": [
    "def listInteTestSup10(l):\n",
    "    listInte=list()\n",
    "    size=len(l)\n",
    "    nbLine=size//5\n",
    "    for turn in range(2):\n",
    "        l2=l.copy()\n",
    "        shuffle(l2)\n",
    "        for i in range(4):\n",
    "            \n",
    "            lTemp=list()\n",
    "            for k in range(nbLine):\n",
    "                lTemp.append(l2[0])\n",
    "                del l2[0]\n",
    "            listInte.append(lTemp)\n",
    "        listInte.append(l2)\n",
    "    return listInte"
   ]
  },
  {
   "cell_type": "code",
   "execution_count": 10,
   "metadata": {},
   "outputs": [],
   "source": [
    "def listAppend(start,end):\n",
    "    sizeInte=end-start+1\n",
    "    inte=list()\n",
    "    for i in range(start,end+1):\n",
    "        inte.append(i)\n",
    "    \n",
    "    \n",
    "    if sizeInte<=10 :\n",
    "        lTest=listInteTestInf10(inte)\n",
    "        for fold in range(10) :\n",
    "            dicoNb[fold][ar[start,0]]=(sizeInte-1,1)\n",
    "            t=lTest[fold]\n",
    "            for l in inte:\n",
    "                if l==t :\n",
    "                    dicoTest[fold].append(l)\n",
    "                else :\n",
    "                    dicoTrain[fold].append(l)\n",
    "    \n",
    "    else :\n",
    "        lTest=listInteTestSup10(inte)\n",
    "        for fold in range(10) :\n",
    "            t=lTest[fold]\n",
    "            dicoNb[fold][ar[start,0]]=(sizeInte-len(t),len(t))\n",
    "            for l in inte :\n",
    "                if l in t :\n",
    "                    dicoTest[fold].append(l)\n",
    "                else :\n",
    "                    dicoTrain[fold].append(l)"
   ]
  },
  {
   "cell_type": "code",
   "execution_count": 11,
   "metadata": {},
   "outputs": [],
   "source": [
    "lastLine=len(df)-1\n",
    "start=0\n",
    "end=nextUser(ar,start)\n",
    "dicoTrain={}\n",
    "dicoTest={}\n",
    "dicoNb={}\n",
    "listOne=list()\n",
    "for fold in range(10):\n",
    "    dicoNb[fold]={}\n",
    "    dicoTrain[fold]=list()\n",
    "    dicoTest[fold]=list()\n",
    "    \n",
    "while (end!=lastLine):\n",
    "    if end!=start:\n",
    "        listAppend(start,end)\n",
    "    else :\n",
    "        listOne.append([ar[start]])\n",
    "    start=end+1\n",
    "    end=nextUser(ar,start)\n",
    "if end!=start:\n",
    "    listAppend(start,end)"
   ]
  },
  {
   "cell_type": "code",
   "execution_count": 14,
   "metadata": {},
   "outputs": [
    {
     "name": "stdout",
     "output_type": "stream",
     "text": [
      "5044489\n"
     ]
    },
    {
     "data": {
      "text/html": [
       "<div>\n",
       "<style scoped>\n",
       "    .dataframe tbody tr th:only-of-type {\n",
       "        vertical-align: middle;\n",
       "    }\n",
       "\n",
       "    .dataframe tbody tr th {\n",
       "        vertical-align: top;\n",
       "    }\n",
       "\n",
       "    .dataframe thead th {\n",
       "        text-align: right;\n",
       "    }\n",
       "</style>\n",
       "<table border=\"1\" class=\"dataframe\">\n",
       "  <thead>\n",
       "    <tr style=\"text-align: right;\">\n",
       "      <th></th>\n",
       "      <th>userId</th>\n",
       "      <th>movieId</th>\n",
       "      <th>rating</th>\n",
       "    </tr>\n",
       "  </thead>\n",
       "  <tbody>\n",
       "    <tr>\n",
       "      <th>0</th>\n",
       "      <td>4</td>\n",
       "      <td>0000013714</td>\n",
       "      <td>4.0</td>\n",
       "    </tr>\n",
       "    <tr>\n",
       "      <th>1</th>\n",
       "      <td>5</td>\n",
       "      <td>0000013714</td>\n",
       "      <td>5.0</td>\n",
       "    </tr>\n",
       "    <tr>\n",
       "      <th>2</th>\n",
       "      <td>6</td>\n",
       "      <td>0000013714</td>\n",
       "      <td>5.0</td>\n",
       "    </tr>\n",
       "    <tr>\n",
       "      <th>3</th>\n",
       "      <td>8</td>\n",
       "      <td>0000013714</td>\n",
       "      <td>4.0</td>\n",
       "    </tr>\n",
       "    <tr>\n",
       "      <th>4</th>\n",
       "      <td>10</td>\n",
       "      <td>0000013714</td>\n",
       "      <td>5.0</td>\n",
       "    </tr>\n",
       "  </tbody>\n",
       "</table>\n",
       "</div>"
      ],
      "text/plain": [
       "  userId     movieId rating\n",
       "0      4  0000013714    4.0\n",
       "1      5  0000013714    5.0\n",
       "2      6  0000013714    5.0\n",
       "3      8  0000013714    4.0\n",
       "4     10  0000013714    5.0"
      ]
     },
     "execution_count": 14,
     "metadata": {},
     "output_type": "execute_result"
    }
   ],
   "source": [
    "arOne=np.concatenate(listOne)\n",
    "dfOne=pd.DataFrame({'userId':arOne[:,0],'movieId':arOne[:,1],'rating':arOne[:,2]})\n",
    "dfOne.to_parquet('dataCV3/dfOne.gzip', compression='gzip',index=False)\n",
    "print(len(dfOne))\n",
    "dfOne.head()"
   ]
  },
  {
   "cell_type": "code",
   "execution_count": 15,
   "metadata": {},
   "outputs": [],
   "source": [
    "del listOne,arOne,dfOne"
   ]
  },
  {
   "cell_type": "code",
   "execution_count": 16,
   "metadata": {},
   "outputs": [
    {
     "name": "stdout",
     "output_type": "stream",
     "text": [
      "--== save nb ratings ==-- \n",
      "--== save nb ratings ==-- \n",
      "--== save nb ratings ==-- \n",
      "--== save nb ratings ==-- \n",
      "--== save nb ratings ==-- \n",
      "--== save nb ratings ==-- \n",
      "--== save nb ratings ==-- \n",
      "--== save nb ratings ==-- \n",
      "--== save nb ratings ==-- \n",
      "--== save nb ratings ==-- \n"
     ]
    }
   ],
   "source": [
    "for fold in range(10):\n",
    "    print(\"--== save nb ratings ==-- \")\n",
    "    ID=list(dicoNb[fold].keys())\n",
    "    nbTrain=list()\n",
    "    nbTest=list()\n",
    "    for i in ID:\n",
    "        (a,b)=dicoNb[fold][i]\n",
    "        nbTrain.append(a)\n",
    "        nbTest.append(b)\n",
    "    dfDico = pd.DataFrame({'userId' : ID, 'NBRatingTrain' : nbTrain,'NBRatingTest' : nbTest})\n",
    "    dfDico.to_csv('dataCV3/user-nbRating_fold_'+str(fold)+'.csv',index =False)\n",
    "    del ID,dfDico\n",
    "del dicoNb"
   ]
  },
  {
   "cell_type": "code",
   "execution_count": 17,
   "metadata": {},
   "outputs": [],
   "source": [
    "for fold in range(10):\n",
    "    ldf=list()\n",
    "    for l in dicoTest[fold]:\n",
    "        ldf.append([ar[l]])\n",
    "    arTest=np.concatenate(ldf)\n",
    "    dfTest=pd.DataFrame({'userId':arTest[:,0],'movieId':arTest[:,1],'rating':arTest[:,2]})\n",
    "    dfTest.to_parquet('dataCV3/dfTest_fold_'+str(fold)+'.gzip', compression='gzip',index=False)\n",
    "    del arTest,dfTest\n",
    "    \n",
    "    ldf=list()\n",
    "    for l in dicoTrain[fold]:\n",
    "        ldf.append([ar[l]])\n",
    "    arTrain=np.concatenate(ldf)\n",
    "    dfTrain=pd.DataFrame({'userId':arTrain[:,0],'movieId':arTrain[:,1],'rating':arTrain[:,2]})\n",
    "    dfTrain.to_parquet('dataCV3/dfTrain_fold_'+str(fold)+'.gzip', compression='gzip',index=False)\n",
    "    del arTrain,dfTrain\n",
    "del ldf"
   ]
  },
  {
   "cell_type": "code",
   "execution_count": null,
   "metadata": {},
   "outputs": [],
   "source": [
    "del dicoTrain,dicoTest"
   ]
  },
  {
   "cell_type": "code",
   "execution_count": null,
   "metadata": {},
   "outputs": [],
   "source": [
    "for fold in range(10):\n",
    "    print(\"______________________________________________________________\")\n",
    "    print(\"fold : \",fold)\n",
    "    print(\"load nb ratings\")\n",
    "    dfDico=pd.read_csv('dataCV3/user-nbRating_fold_'+str(fold)+'.csv')\n",
    "    d={}\n",
    "    for index, row in dfDico.iterrows():\n",
    "        d[row['userId']]=row['NBRatingTrain']\n",
    "    del dfDico\n",
    "    \n",
    "    print(\"load testing dataset\")\n",
    "    arTest=pd.read_parquet('dataCV3/dfTest_fold_'+str(fold)+'.gzip').to_numpy()\n",
    "    size=len(arTest)\n",
    "    dicoDf={}\n",
    "    print(\"Repartition Start\")\n",
    "    for j in range(size): \n",
    "        nb=d[arTest[j,0]]//10\n",
    "        if nb in dicoDf :\n",
    "            dicoDf[nb].append([arTest[j]])\n",
    "        else:\n",
    "            dicoDf[nb]=list()\n",
    "            dicoDf[nb].append([arTest[j]])\n",
    "\n",
    "    print(\"Sauvegarde des intervalles\")\n",
    "    for j in dicoDf:\n",
    "        a=np.concatenate(dicoDf[j],axis=0)\n",
    "        dfTemp = pd.DataFrame({'userId':a[:,0],'movieId':a[:,1],'rating':a[:,2]})\n",
    "        dfTemp.to_parquet('dataCV3/df'+inteName(j)+'_fold_'+str(fold)+'.gzip', compression='gzip',index=False)\n",
    "        del dfTemp,a\n",
    "    \n",
    "    print(\"Creation of the large intervalles\")\n",
    "    for i in range(10,50,5):\n",
    "        listDF=list()\n",
    "        for j in range(5):\n",
    "            listDF.append(pd.read_parquet('dataCV3/df'+inteName(i+j)+'_fold_'+str(fold)+'.gzip'))\n",
    "        dfTemp=pd.concat(listDF)\n",
    "        dfTemp.to_parquet('dataCV3/df'+inteName2(i)+'_fold_'+str(fold)+'.gzip', compression='gzip',index=False)\n",
    "    \n",
    "    print(\"Creation of the intervalle sup500\")\n",
    "    listDF=list()\n",
    "    for i in range(50,800):\n",
    "        path='dataCV3/df'+inteName(i)+'_fold_'+str(fold)+'.gzip'\n",
    "        if os.path.exists(path):\n",
    "            listDF.append(pd.read_parquet(path))\n",
    "    dfTemp=pd.concat(listDF)\n",
    "    dfTemp.to_parquet('dataCV3/df'+inteName2(50)+'_fold_'+str(fold)+'.gzip', compression='gzip',index=False)\n",
    "    del dfTemp,listDF\n",
    "    \n",
    "    print(\"Creation of the intervalle inf20\")\n",
    "    df1=pd.read_parquet('dataCV3/df1-9'+'_fold_'+str(fold)+'.gzip')\n",
    "    df2=pd.read_parquet('dataCV3/df10-19'+'_fold_'+str(fold)+'.gzip')\n",
    "    dfInf20=pd.concat([df1,df2])\n",
    "    dfInf20.to_parquet('dataCV3/dfInf20'+'_fold_'+str(fold)+'.gzip', compression='gzip',index=False)\n",
    "    del df1,df2,dfInf20\n",
    "    \n",
    "    print(\"Creation of the intervalle sup20\")\n",
    "    listDF=list()\n",
    "    for i in range(2,10):\n",
    "        listDF.append(pd.read_parquet('dataCV3/df'+inteName2(i)+'_fold_'+str(fold)+'.gzip'))\n",
    "    for i in range(10,51,5):\n",
    "        listDF.append(pd.read_parquet('dataCV3/df'+inteName2(i)+'_fold_'+str(fold)+'.gzip'))\n",
    "    dfSup20=pd.concat(listDF)\n",
    "    dfSup20.to_parquet('dataCV3/dfSup20_fold_'+str(fold)+'.gzip', compression='gzip',index=False)    "
   ]
  },
  {
   "cell_type": "code",
   "execution_count": 6,
   "metadata": {},
   "outputs": [
    {
     "name": "stdout",
     "output_type": "stream",
     "text": [
      "-  0  -\n",
      "-  1  -\n",
      "-  2  -\n",
      "-  3  -\n",
      "-  4  -\n",
      "-  5  -\n",
      "-  6  -\n",
      "-  7  -\n",
      "-  8  -\n",
      "-  9  -\n"
     ]
    }
   ],
   "source": [
    "for fold in range(10):\n",
    "    print('- ',fold,' -')\n",
    "    for i in range(10,5000):\n",
    "        path='dataCV3/df'+inteName(i)+'_fold_'+str(fold)+'.gzip'\n",
    "        if os.path.exists(path):\n",
    "            os.remove(path)"
   ]
  },
  {
   "cell_type": "code",
   "execution_count": null,
   "metadata": {},
   "outputs": [],
   "source": []
  }
 ],
 "metadata": {
  "kernelspec": {
   "display_name": "Python 3",
   "language": "python",
   "name": "python3"
  },
  "language_info": {
   "codemirror_mode": {
    "name": "ipython",
    "version": 3
   },
   "file_extension": ".py",
   "mimetype": "text/x-python",
   "name": "python",
   "nbconvert_exporter": "python",
   "pygments_lexer": "ipython3",
   "version": "3.6.3"
  }
 },
 "nbformat": 4,
 "nbformat_minor": 2
}
