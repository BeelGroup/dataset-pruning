{
 "cells": [
  {
   "cell_type": "code",
   "execution_count": 1,
   "metadata": {},
   "outputs": [],
   "source": [
    "import pandas as pd\n",
    "import numpy as np\n",
    "from math import sqrt"
   ]
  },
  {
   "cell_type": "code",
   "execution_count": 2,
   "metadata": {},
   "outputs": [],
   "source": [
    "def inteName(i):\n",
    "    if i==0:\n",
    "        return \"1-9\"\n",
    "    elif i<10:\n",
    "        return str(int(i*10))+\"-\"+str(int(i*10+9))\n",
    "    elif i>=50:\n",
    "        return 'sup500'\n",
    "    else :\n",
    "        return str(int(i*10))+\"-\"+str(int(i*10+49))"
   ]
  },
  {
   "cell_type": "code",
   "execution_count": 3,
   "metadata": {},
   "outputs": [],
   "source": [
    "dicoDf={}\n",
    "for i in range(10) :\n",
    "    dicoDf[i]=pd.read_csv('data/prediction_fold_'+str(i)+'.csv')"
   ]
  },
  {
   "cell_type": "code",
   "execution_count": 4,
   "metadata": {},
   "outputs": [],
   "source": [
    "listDF=dicoDf.values()"
   ]
  },
  {
   "cell_type": "code",
   "execution_count": 5,
   "metadata": {},
   "outputs": [
    {
     "data": {
      "text/html": [
       "<div>\n",
       "<style scoped>\n",
       "    .dataframe tbody tr th:only-of-type {\n",
       "        vertical-align: middle;\n",
       "    }\n",
       "\n",
       "    .dataframe tbody tr th {\n",
       "        vertical-align: top;\n",
       "    }\n",
       "\n",
       "    .dataframe thead th {\n",
       "        text-align: right;\n",
       "    }\n",
       "</style>\n",
       "<table border=\"1\" class=\"dataframe\">\n",
       "  <thead>\n",
       "    <tr style=\"text-align: right;\">\n",
       "      <th></th>\n",
       "      <th>userId</th>\n",
       "      <th>movieId</th>\n",
       "      <th>rating</th>\n",
       "      <th>Predicted ratings BaselineOnly</th>\n",
       "      <th>Predicted ratings SVD</th>\n",
       "      <th>Predicted ratings NMF</th>\n",
       "    </tr>\n",
       "  </thead>\n",
       "  <tbody>\n",
       "    <tr>\n",
       "      <th>0</th>\n",
       "      <td>1</td>\n",
       "      <td>0000000116</td>\n",
       "      <td>4.0</td>\n",
       "      <td>4.072118</td>\n",
       "      <td>4.095852</td>\n",
       "      <td>1.000000</td>\n",
       "    </tr>\n",
       "    <tr>\n",
       "      <th>1</th>\n",
       "      <td>2</td>\n",
       "      <td>1477817409</td>\n",
       "      <td>4.0</td>\n",
       "      <td>4.203534</td>\n",
       "      <td>4.200615</td>\n",
       "      <td>2.121743</td>\n",
       "    </tr>\n",
       "    <tr>\n",
       "      <th>2</th>\n",
       "      <td>3</td>\n",
       "      <td>0345367413</td>\n",
       "      <td>4.0</td>\n",
       "      <td>3.441428</td>\n",
       "      <td>3.391529</td>\n",
       "      <td>3.447826</td>\n",
       "    </tr>\n",
       "    <tr>\n",
       "      <th>3</th>\n",
       "      <td>7</td>\n",
       "      <td>0000013714</td>\n",
       "      <td>4.0</td>\n",
       "      <td>4.382731</td>\n",
       "      <td>4.405936</td>\n",
       "      <td>3.964205</td>\n",
       "    </tr>\n",
       "    <tr>\n",
       "      <th>4</th>\n",
       "      <td>9</td>\n",
       "      <td>0882703803</td>\n",
       "      <td>5.0</td>\n",
       "      <td>4.641738</td>\n",
       "      <td>4.874347</td>\n",
       "      <td>5.000000</td>\n",
       "    </tr>\n",
       "  </tbody>\n",
       "</table>\n",
       "</div>"
      ],
      "text/plain": [
       "   userId     movieId  rating  Predicted ratings BaselineOnly  \\\n",
       "0       1  0000000116     4.0                        4.072118   \n",
       "1       2  1477817409     4.0                        4.203534   \n",
       "2       3  0345367413     4.0                        3.441428   \n",
       "3       7  0000013714     4.0                        4.382731   \n",
       "4       9  0882703803     5.0                        4.641738   \n",
       "\n",
       "   Predicted ratings SVD  Predicted ratings NMF  \n",
       "0               4.095852               1.000000  \n",
       "1               4.200615               2.121743  \n",
       "2               3.391529               3.447826  \n",
       "3               4.405936               3.964205  \n",
       "4               4.874347               5.000000  "
      ]
     },
     "execution_count": 5,
     "metadata": {},
     "output_type": "execute_result"
    }
   ],
   "source": [
    "dicoDf[0].head()"
   ]
  },
  {
   "cell_type": "code",
   "execution_count": 6,
   "metadata": {},
   "outputs": [],
   "source": [
    "algoListe=[\"BaselineOnly\", \"SVD\", \"NMF\", \"SlopeOne\", \n",
    "           \"CoClustering\", \"NormalPredictor\", \"SVDpp\",\n",
    "           \"KNNBasic\", \"KNNWithMeans\", \"KNNBaseline\", \"KNNWithZScore\"]"
   ]
  },
  {
   "cell_type": "code",
   "execution_count": 7,
   "metadata": {},
   "outputs": [],
   "source": [
    "nbAlgo=2"
   ]
  },
  {
   "cell_type": "code",
   "execution_count": 8,
   "metadata": {},
   "outputs": [],
   "source": [
    "for df in listDF:\n",
    "    for name in algoListe[:nbAlgo]:\n",
    "        df[\"error \"+name]=abs(df[\"rating\"]-df[\"Predicted ratings \"+name])"
   ]
  },
  {
   "cell_type": "code",
   "execution_count": 9,
   "metadata": {},
   "outputs": [],
   "source": [
    "ncol=list(dicoDf[0])"
   ]
  },
  {
   "cell_type": "code",
   "execution_count": 10,
   "metadata": {},
   "outputs": [],
   "source": [
    "errS=6"
   ]
  },
  {
   "cell_type": "code",
   "execution_count": 11,
   "metadata": {},
   "outputs": [
    {
     "data": {
      "text/plain": [
       "['userId',\n",
       " 'movieId',\n",
       " 'rating',\n",
       " 'Predicted ratings BaselineOnly',\n",
       " 'Predicted ratings SVD',\n",
       " 'Predicted ratings NMF',\n",
       " 'error BaselineOnly',\n",
       " 'error SVD']"
      ]
     },
     "execution_count": 11,
     "metadata": {},
     "output_type": "execute_result"
    }
   ],
   "source": [
    "ncol"
   ]
  },
  {
   "cell_type": "code",
   "execution_count": 12,
   "metadata": {},
   "outputs": [],
   "source": [
    "d={}\n",
    "ar=df.to_numpy()"
   ]
  },
  {
   "cell_type": "code",
   "execution_count": 13,
   "metadata": {},
   "outputs": [],
   "source": [
    "def rmse(l):\n",
    "    s=0\n",
    "    for i in l:\n",
    "        s+=i*i\n",
    "    return sqrt(s/len(l))\n",
    "\n",
    "def avg(l):\n",
    "    s=0\n",
    "    for i in l:\n",
    "        s+=i\n",
    "    return s/len(l)"
   ]
  },
  {
   "cell_type": "code",
   "execution_count": 14,
   "metadata": {},
   "outputs": [],
   "source": [
    "nameColumms=['UserId','Number of rated movies in the training dataset','Number of rated movies in the testing dataset']\n",
    "for name in algoListe[:nbAlgo] :\n",
    "    nameColumms.append('RMSE '+name+', per user')\n",
    "for name in algoListe[:nbAlgo] :\n",
    "    nameColumms.append('MAE '+name+', per user')"
   ]
  },
  {
   "cell_type": "code",
   "execution_count": 17,
   "metadata": {},
   "outputs": [
    {
     "name": "stdout",
     "output_type": "stream",
     "text": [
      "--==  0  ==--\n",
      "--==  1  ==--\n"
     ]
    },
    {
     "ename": "IndexError",
     "evalue": "index 7 is out of bounds for axis 1 with size 7",
     "output_type": "error",
     "traceback": [
      "\u001b[1;31m---------------------------------------------------------------------------\u001b[0m",
      "\u001b[1;31mIndexError\u001b[0m                                Traceback (most recent call last)",
      "\u001b[1;32m<ipython-input-17-598caa15b59e>\u001b[0m in \u001b[0;36m<module>\u001b[1;34m\u001b[0m\n\u001b[0;32m     10\u001b[0m             \u001b[0md\u001b[0m\u001b[1;33m[\u001b[0m\u001b[0mID\u001b[0m\u001b[1;33m]\u001b[0m\u001b[1;33m=\u001b[0m\u001b[1;33m{\u001b[0m\u001b[1;33m}\u001b[0m\u001b[1;33m\u001b[0m\u001b[0m\n\u001b[0;32m     11\u001b[0m             \u001b[1;32mfor\u001b[0m \u001b[0mj\u001b[0m \u001b[1;32min\u001b[0m \u001b[0mrange\u001b[0m\u001b[1;33m(\u001b[0m\u001b[0mnbAlgo\u001b[0m\u001b[1;33m)\u001b[0m \u001b[1;33m:\u001b[0m\u001b[1;33m\u001b[0m\u001b[0m\n\u001b[1;32m---> 12\u001b[1;33m                 \u001b[0md\u001b[0m\u001b[1;33m[\u001b[0m\u001b[0mID\u001b[0m\u001b[1;33m]\u001b[0m\u001b[1;33m[\u001b[0m\u001b[0mj\u001b[0m\u001b[1;33m]\u001b[0m\u001b[1;33m=\u001b[0m\u001b[1;33m[\u001b[0m\u001b[0mar\u001b[0m\u001b[1;33m[\u001b[0m\u001b[0mi\u001b[0m\u001b[1;33m,\u001b[0m\u001b[0mj\u001b[0m\u001b[1;33m+\u001b[0m\u001b[0merrS\u001b[0m\u001b[1;33m]\u001b[0m\u001b[1;33m]\u001b[0m\u001b[1;33m\u001b[0m\u001b[0m\n\u001b[0m\u001b[0;32m     13\u001b[0m         \u001b[1;32melse\u001b[0m \u001b[1;33m:\u001b[0m\u001b[1;33m\u001b[0m\u001b[0m\n\u001b[0;32m     14\u001b[0m             \u001b[1;32mfor\u001b[0m \u001b[0mj\u001b[0m \u001b[1;32min\u001b[0m \u001b[0mrange\u001b[0m\u001b[1;33m(\u001b[0m\u001b[0mnbAlgo\u001b[0m\u001b[1;33m)\u001b[0m \u001b[1;33m:\u001b[0m\u001b[1;33m\u001b[0m\u001b[0m\n",
      "\u001b[1;31mIndexError\u001b[0m: index 7 is out of bounds for axis 1 with size 7"
     ]
    }
   ],
   "source": [
    "listDfRes=list()\n",
    "for fold in range(10):\n",
    "    print('--== ', fold,' ==--')\n",
    "    d={}\n",
    "    ar=dicoDf[fold].to_numpy()\n",
    "    t=len(ar)\n",
    "    for i in range(t) :\n",
    "        ID=ar[i,0]\n",
    "        if ID not in d :\n",
    "            d[ID]={}\n",
    "            for j in range(nbAlgo) :\n",
    "                d[ID][j]=[ar[i,j+errS]]\n",
    "        else :\n",
    "            for j in range(nbAlgo) :\n",
    "                d[ID][j].append(ar[i,j+errS])\n",
    "\n",
    "    dfDico=pd.read_csv('dataCV3/user-nbRating_fold_'+str(fold)+'.csv')\n",
    "    dRatingsTrain={}\n",
    "    dRatingsTest={}\n",
    "    for index, row in dfDico.iterrows():\n",
    "        dRatingsTrain[row['userId']]=row['NBRatingTrain']\n",
    "        dRatingsTest[row['userId']]=row['NBRatingTest']\n",
    "    del dfDico\n",
    "\n",
    "    d2={}\n",
    "    for i in d:\n",
    "        d2[i]={}\n",
    "        for j in range(nbAlgo):\n",
    "            d2[i][j]=rmse(d[i][j])\n",
    "\n",
    "    d3={}\n",
    "    for i in d:\n",
    "        d3[i]={}\n",
    "        for j in range(nbAlgo):\n",
    "            d3[i][j]=avg(d[i][j])\n",
    "\n",
    "    listAR=list()\n",
    "    for i in d2 :\n",
    "        listAR.append(np.array([[int(i),int(dRatingsTrain[i]), int(dRatingsTest[i]),\n",
    "                                 d2[i][0], d2[i][1], \n",
    "                                 d3[i][0], d3[i][1]]]))\n",
    "    arRes=np.concatenate(listAR)\n",
    "    dfRes=pd.DataFrame({nameColumms[0]:arRes[:,0],nameColumms[1]:arRes[:,1],nameColumms[2]:arRes[:,2],nameColumms[3]:arRes[:,3],\n",
    "                        nameColumms[4]:arRes[:,4],nameColumms[5]:arRes[:,5],nameColumms[6]:arRes[:,6]})\n",
    "\n",
    "    dfRes.to_csv('data/uRMSE_uMAE_fold_'+str(fold)+'.csv',index=False)\n",
    "    listDfRes.append(dfRes)"
   ]
  },
  {
   "cell_type": "code",
   "execution_count": null,
   "metadata": {},
   "outputs": [],
   "source": [
    "dfRes=pd.concat(listDfRes)\n",
    "dfRes.to_csv('data/uRMSE_uMAE_full.csv',index=False)"
   ]
  },
  {
   "cell_type": "code",
   "execution_count": null,
   "metadata": {},
   "outputs": [],
   "source": [
    "dfRes.head()"
   ]
  },
  {
   "cell_type": "code",
   "execution_count": 19,
   "metadata": {},
   "outputs": [],
   "source": [
    "del d,d3,d2,df"
   ]
  },
  {
   "cell_type": "code",
   "execution_count": 20,
   "metadata": {},
   "outputs": [
    {
     "data": {
      "text/plain": [
       "6239080"
      ]
     },
     "execution_count": 20,
     "metadata": {},
     "output_type": "execute_result"
    }
   ],
   "source": [
    "len(dfRes)"
   ]
  },
  {
   "cell_type": "code",
   "execution_count": 21,
   "metadata": {},
   "outputs": [
    {
     "name": "stdout",
     "output_type": "stream",
     "text": [
      "825100\n",
      "825100\n",
      "825100\n",
      "825100\n",
      "903951\n",
      "825100\n",
      "825100\n",
      "825100\n",
      "825100\n",
      "903951\n",
      "tot =  8408702\n"
     ]
    }
   ],
   "source": [
    "cpt=0\n",
    "for df in listDF :\n",
    "    print(len(df))\n",
    "    cpt+=len(df)\n",
    "\n",
    "    \n",
    "print(\"tot = \",cpt)"
   ]
  },
  {
   "cell_type": "code",
   "execution_count": 22,
   "metadata": {},
   "outputs": [
    {
     "name": "stdout",
     "output_type": "stream",
     "text": [
      "623908\n",
      "623908\n",
      "623908\n",
      "623908\n",
      "623908\n",
      "623908\n",
      "623908\n",
      "623908\n",
      "623908\n",
      "623908\n",
      "tot =  6239080\n"
     ]
    }
   ],
   "source": [
    "cpt2=0\n",
    "lres=list()\n",
    "for fold in range(10):\n",
    "    dfTemp=pd.read_csv('data/uRMSE_uMAE_fold_'+str(fold)+'.csv')\n",
    "    print(len(dfTemp))\n",
    "    cpt2+=len(dfTemp)\n",
    "    lres.append(dfTemp)\n",
    "    \n",
    "print(\"tot = \",cpt2)"
   ]
  },
  {
   "cell_type": "code",
   "execution_count": null,
   "metadata": {},
   "outputs": [],
   "source": []
  },
  {
   "cell_type": "code",
   "execution_count": 23,
   "metadata": {},
   "outputs": [],
   "source": [
    "ar=dfRes.to_numpy()"
   ]
  },
  {
   "cell_type": "code",
   "execution_count": 24,
   "metadata": {},
   "outputs": [],
   "source": [
    "t=len(ar)\n",
    "d={}\n",
    "for i in range(t) :\n",
    "    ID=ar[i,1]\n",
    "    if ID not in d:\n",
    "        d[ID]={}\n",
    "        for j in range(nbAlgo):\n",
    "            d[ID][j]=[ar[i,3+j]]\n",
    "    else :\n",
    "        for j in range(nbAlgo):\n",
    "            d[ID][j].append(ar[i,3+j])"
   ]
  },
  {
   "cell_type": "code",
   "execution_count": 25,
   "metadata": {},
   "outputs": [],
   "source": [
    "d2={}\n",
    "for i in d:\n",
    "    d2[i]={}\n",
    "    for j in range(nbAlgo):\n",
    "        d2[i][j]=avg(d[i][j])"
   ]
  },
  {
   "cell_type": "code",
   "execution_count": 27,
   "metadata": {},
   "outputs": [],
   "source": [
    "listAR=list()\n",
    "for i in d2 :\n",
    "    listAR.append(np.array([[int(i), d2[i][0], d2[i][1], d2[i][2]]]))"
   ]
  },
  {
   "cell_type": "code",
   "execution_count": 28,
   "metadata": {},
   "outputs": [],
   "source": [
    "arRes=np.concatenate(listAR)"
   ]
  },
  {
   "cell_type": "code",
   "execution_count": 29,
   "metadata": {},
   "outputs": [],
   "source": [
    "nameColumms=['Number of rated movies']\n",
    "for name in algoListe[:nbAlgo] :\n",
    "    nameColumms.append('avg RMSE '+name)"
   ]
  },
  {
   "cell_type": "code",
   "execution_count": 30,
   "metadata": {},
   "outputs": [],
   "source": [
    "dfRes=pd.DataFrame({nameColumms[0]:arRes[:,0],nameColumms[1]:arRes[:,1],nameColumms[2]:arRes[:,2],nameColumms[3]:arRes[:,3]})\n",
    "                    #nameColumms[4]:arRes[:,4],nameColumms[5]:arRes[:,5],nameColumms[6]:arRes[:,6]})"
   ]
  },
  {
   "cell_type": "code",
   "execution_count": 31,
   "metadata": {},
   "outputs": [
    {
     "data": {
      "text/html": [
       "<div>\n",
       "<style scoped>\n",
       "    .dataframe tbody tr th:only-of-type {\n",
       "        vertical-align: middle;\n",
       "    }\n",
       "\n",
       "    .dataframe tbody tr th {\n",
       "        vertical-align: top;\n",
       "    }\n",
       "\n",
       "    .dataframe thead th {\n",
       "        text-align: right;\n",
       "    }\n",
       "</style>\n",
       "<table border=\"1\" class=\"dataframe\">\n",
       "  <thead>\n",
       "    <tr style=\"text-align: right;\">\n",
       "      <th></th>\n",
       "      <th>Number of rated movies</th>\n",
       "      <th>avg RMSE BaselineOnly</th>\n",
       "      <th>avg RMSE SVD</th>\n",
       "      <th>avg RMSE NMF</th>\n",
       "    </tr>\n",
       "  </thead>\n",
       "  <tbody>\n",
       "    <tr>\n",
       "      <th>0</th>\n",
       "      <td>2.0</td>\n",
       "      <td>0.819167</td>\n",
       "      <td>0.809349</td>\n",
       "      <td>0.982313</td>\n",
       "    </tr>\n",
       "    <tr>\n",
       "      <th>1</th>\n",
       "      <td>30.0</td>\n",
       "      <td>0.953808</td>\n",
       "      <td>0.953629</td>\n",
       "      <td>1.037730</td>\n",
       "    </tr>\n",
       "    <tr>\n",
       "      <th>2</th>\n",
       "      <td>6.0</td>\n",
       "      <td>0.803341</td>\n",
       "      <td>0.786319</td>\n",
       "      <td>0.870056</td>\n",
       "    </tr>\n",
       "    <tr>\n",
       "      <th>3</th>\n",
       "      <td>1.0</td>\n",
       "      <td>0.838791</td>\n",
       "      <td>0.831812</td>\n",
       "      <td>1.237366</td>\n",
       "    </tr>\n",
       "    <tr>\n",
       "      <th>4</th>\n",
       "      <td>32.0</td>\n",
       "      <td>0.933214</td>\n",
       "      <td>0.934288</td>\n",
       "      <td>1.031612</td>\n",
       "    </tr>\n",
       "  </tbody>\n",
       "</table>\n",
       "</div>"
      ],
      "text/plain": [
       "   Number of rated movies  avg RMSE BaselineOnly  avg RMSE SVD  avg RMSE NMF\n",
       "0                     2.0               0.819167      0.809349      0.982313\n",
       "1                    30.0               0.953808      0.953629      1.037730\n",
       "2                     6.0               0.803341      0.786319      0.870056\n",
       "3                     1.0               0.838791      0.831812      1.237366\n",
       "4                    32.0               0.933214      0.934288      1.031612"
      ]
     },
     "execution_count": 31,
     "metadata": {},
     "output_type": "execute_result"
    }
   ],
   "source": [
    "dfRes.head()"
   ]
  },
  {
   "cell_type": "code",
   "execution_count": 32,
   "metadata": {},
   "outputs": [],
   "source": [
    "dfRes.to_csv('data/RMSEavg_cv.csv',index=False)"
   ]
  },
  {
   "cell_type": "code",
   "execution_count": null,
   "metadata": {},
   "outputs": [],
   "source": []
  }
 ],
 "metadata": {
  "kernelspec": {
   "display_name": "Python 3",
   "language": "python",
   "name": "python3"
  },
  "language_info": {
   "codemirror_mode": {
    "name": "ipython",
    "version": 3
   },
   "file_extension": ".py",
   "mimetype": "text/x-python",
   "name": "python",
   "nbconvert_exporter": "python",
   "pygments_lexer": "ipython3",
   "version": "3.6.3"
  }
 },
 "nbformat": 4,
 "nbformat_minor": 2
}
