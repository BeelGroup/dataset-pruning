{
 "cells": [
  {
   "cell_type": "markdown",
   "metadata": {},
   "source": [
    "# Number of ratings for each user"
   ]
  },
  {
   "cell_type": "markdown",
   "metadata": {},
   "source": [
    "### Importing library"
   ]
  },
  {
   "cell_type": "code",
   "execution_count": 3,
   "metadata": {},
   "outputs": [],
   "source": [
    "import pandas as pd\n",
    "import numpy as np\n",
    "import matplotlib.pyplot as plt"
   ]
  },
  {
   "cell_type": "markdown",
   "metadata": {},
   "source": [
    "### Importing the dataset"
   ]
  },
  {
   "cell_type": "code",
   "execution_count": 3,
   "metadata": {},
   "outputs": [
    {
     "data": {
      "text/html": [
       "<div>\n",
       "<style scoped>\n",
       "    .dataframe tbody tr th:only-of-type {\n",
       "        vertical-align: middle;\n",
       "    }\n",
       "\n",
       "    .dataframe tbody tr th {\n",
       "        vertical-align: top;\n",
       "    }\n",
       "\n",
       "    .dataframe thead th {\n",
       "        text-align: right;\n",
       "    }\n",
       "</style>\n",
       "<table border=\"1\" class=\"dataframe\">\n",
       "  <thead>\n",
       "    <tr style=\"text-align: right;\">\n",
       "      <th></th>\n",
       "      <th>userId</th>\n",
       "      <th>itemId</th>\n",
       "      <th>rating</th>\n",
       "    </tr>\n",
       "  </thead>\n",
       "  <tbody>\n",
       "    <tr>\n",
       "      <th>0</th>\n",
       "      <td>AH2L9G3DQHHAJ</td>\n",
       "      <td>0000000116</td>\n",
       "      <td>4.0</td>\n",
       "    </tr>\n",
       "    <tr>\n",
       "      <th>1</th>\n",
       "      <td>A2IIIDRK3PRRZY</td>\n",
       "      <td>0000000116</td>\n",
       "      <td>1.0</td>\n",
       "    </tr>\n",
       "    <tr>\n",
       "      <th>2</th>\n",
       "      <td>A1TADCM7YWPQ8M</td>\n",
       "      <td>0000000868</td>\n",
       "      <td>4.0</td>\n",
       "    </tr>\n",
       "    <tr>\n",
       "      <th>3</th>\n",
       "      <td>AWGH7V0BDOJKB</td>\n",
       "      <td>0000013714</td>\n",
       "      <td>4.0</td>\n",
       "    </tr>\n",
       "    <tr>\n",
       "      <th>4</th>\n",
       "      <td>A3UTQPQPM4TQO0</td>\n",
       "      <td>0000013714</td>\n",
       "      <td>5.0</td>\n",
       "    </tr>\n",
       "  </tbody>\n",
       "</table>\n",
       "</div>"
      ],
      "text/plain": [
       "           userId      itemId  rating\n",
       "0   AH2L9G3DQHHAJ  0000000116     4.0\n",
       "1  A2IIIDRK3PRRZY  0000000116     1.0\n",
       "2  A1TADCM7YWPQ8M  0000000868     4.0\n",
       "3   AWGH7V0BDOJKB  0000013714     4.0\n",
       "4  A3UTQPQPM4TQO0  0000013714     5.0"
      ]
     },
     "execution_count": 3,
     "metadata": {},
     "output_type": "execute_result"
    }
   ],
   "source": [
    "df= pd.read_parquet('data/ratings.gzip')\n",
    "ar=df.to_numpy()\n",
    "df.head()"
   ]
  },
  {
   "cell_type": "markdown",
   "metadata": {},
   "source": [
    "I count the number of ratings for each user and i put there results in dictionary"
   ]
  },
  {
   "cell_type": "code",
   "execution_count": 4,
   "metadata": {},
   "outputs": [],
   "source": [
    "d={}\n",
    "t=len(ar)\n",
    "for i in range(t):\n",
    "    if ar[i,0] in d :\n",
    "        d[ar[i,0]]+=1\n",
    "    else :\n",
    "        d[ar[i,0]]=1"
   ]
  },
  {
   "cell_type": "markdown",
   "metadata": {},
   "source": [
    "I save there results because i will need them later"
   ]
  },
  {
   "cell_type": "code",
   "execution_count": 5,
   "metadata": {},
   "outputs": [],
   "source": [
    "ID=list(d.keys())\n",
    "NB=list(d.values())\n",
    "dfDico = pd.DataFrame({'userId' : ID, 'NBRating' : NB})\n",
    "dfDico.to_csv('data/user-nbRating.csv',index =False)\n",
    "del ID,NB,dfDico"
   ]
  },
  {
   "cell_type": "code",
   "execution_count": 2,
   "metadata": {},
   "outputs": [],
   "source": [
    "dfDico=pd.read_csv('data/user-nbRating.csv')\n",
    "d={}\n",
    "for index, row in dfDico.iterrows():\n",
    "    d[row['userId']]=row['NBRating']\n",
    "del dfDico"
   ]
  },
  {
   "cell_type": "markdown",
   "metadata": {},
   "source": [
    "I count how many user had vot x time"
   ]
  },
  {
   "cell_type": "code",
   "execution_count": 4,
   "metadata": {},
   "outputs": [],
   "source": [
    "d2={}\n",
    "for key, val in d.items():\n",
    "    if val in d2 :\n",
    "        d2[val]+=1\n",
    "    else :\n",
    "        d2[val]=1"
   ]
  },
  {
   "cell_type": "code",
   "execution_count": 5,
   "metadata": {},
   "outputs": [],
   "source": [
    "nbRatings=list(d2.keys())\n",
    "nbUsers=list(d2.values())\n",
    "dfDico = pd.DataFrame({'nbRatings' : nbRatings, 'nbUsers' : nbUsers})\n",
    "dfDico.to_csv('data/User_Rating.csv',index =False)"
   ]
  },
  {
   "cell_type": "markdown",
   "metadata": {},
   "source": [
    "this fuction is made to create a dictionary whith the number of user in each interval"
   ]
  },
  {
   "cell_type": "markdown",
   "metadata": {},
   "source": [
    "By interval I mean People who are voting between a times and b times"
   ]
  },
  {
   "cell_type": "markdown",
   "metadata": {},
   "source": [
    "the values in the dictionary are a tuple whith the interval (\"a-b\") and the number of user"
   ]
  },
  {
   "cell_type": "code",
   "execution_count": 7,
   "metadata": {},
   "outputs": [],
   "source": [
    "def dicoInterval(d2,size):\n",
    "    l=list(d2.keys())\n",
    "    mini=min(l)\n",
    "    maxi=max(l)\n",
    "    cpt=0\n",
    "    d3={}\n",
    "    while(cpt*size<=maxi):\n",
    "        d3[cpt]=(str(cpt*size)+\"-\"+str(cpt*size-1+size),0)\n",
    "        cpt+=1\n",
    "        \n",
    "    \n",
    "    for key, val in d2.items():\n",
    "        ind=key//size\n",
    "        (a,b)=d3[ind]\n",
    "        b+=val\n",
    "        d3[ind]=(a,b)\n",
    "    return d3"
   ]
  },
  {
   "cell_type": "code",
   "execution_count": 8,
   "metadata": {},
   "outputs": [],
   "source": [
    "d3=dicoInterval(d2,10)"
   ]
  },
  {
   "cell_type": "markdown",
   "metadata": {},
   "source": [
    "This algorithm create a last interval like \">500\""
   ]
  },
  {
   "cell_type": "code",
   "execution_count": 9,
   "metadata": {},
   "outputs": [],
   "source": [
    "def dicoIntervalEnd(d,sup,size):\n",
    "    d2={}\n",
    "    maxi=sup//size\n",
    "    for key, val in d.items():\n",
    "        if(key<maxi):\n",
    "            d2[key]=val\n",
    "        elif maxi in d2 :\n",
    "            (a,b)=d2[maxi]\n",
    "            (c,d)=val\n",
    "            b+=d\n",
    "            d2[maxi]=(a,b)\n",
    "        else :\n",
    "            d2[maxi]=(\">\"+str(sup),int(0))\n",
    "            \n",
    "    return d2"
   ]
  },
  {
   "cell_type": "code",
   "execution_count": 11,
   "metadata": {},
   "outputs": [],
   "source": [
    "d3=dicoIntervalEnd(d3,500,10)"
   ]
  },
  {
   "cell_type": "markdown",
   "metadata": {},
   "source": [
    "### plot the chart"
   ]
  },
  {
   "cell_type": "code",
   "execution_count": 13,
   "metadata": {},
   "outputs": [],
   "source": [
    "NBRating=list()\n",
    "NBUser=list()\n",
    "listTemp=list(d3.values())\n",
    "for tp in listTemp:\n",
    "    (A,B)=tp\n",
    "    NBRating.append(A)\n",
    "    NBUser.append(B)"
   ]
  },
  {
   "cell_type": "code",
   "execution_count": 2,
   "metadata": {},
   "outputs": [
    {
     "ename": "NameError",
     "evalue": "name 'np' is not defined",
     "output_type": "error",
     "traceback": [
      "\u001b[1;31m---------------------------------------------------------------------------\u001b[0m",
      "\u001b[1;31mNameError\u001b[0m                                 Traceback (most recent call last)",
      "\u001b[1;32m<ipython-input-2-5126b044e8bd>\u001b[0m in \u001b[0;36m<module>\u001b[1;34m\u001b[0m\n\u001b[1;32m----> 1\u001b[1;33m \u001b[0mind\u001b[0m \u001b[1;33m=\u001b[0m \u001b[0mnp\u001b[0m\u001b[1;33m.\u001b[0m\u001b[0marange\u001b[0m\u001b[1;33m(\u001b[0m\u001b[0mlen\u001b[0m\u001b[1;33m(\u001b[0m\u001b[0mNBRating\u001b[0m\u001b[1;33m)\u001b[0m\u001b[1;33m)\u001b[0m\u001b[1;33m\u001b[0m\u001b[0m\n\u001b[0m\u001b[0;32m      2\u001b[0m \u001b[0mwidth\u001b[0m \u001b[1;33m=\u001b[0m \u001b[1;36m0.7\u001b[0m\u001b[1;33m\u001b[0m\u001b[0m\n\u001b[0;32m      3\u001b[0m \u001b[1;33m\u001b[0m\u001b[0m\n\u001b[0;32m      4\u001b[0m \u001b[0mfig\u001b[0m\u001b[1;33m,\u001b[0m \u001b[0max\u001b[0m \u001b[1;33m=\u001b[0m \u001b[0mplt\u001b[0m\u001b[1;33m.\u001b[0m\u001b[0msubplots\u001b[0m\u001b[1;33m(\u001b[0m\u001b[0mfigsize\u001b[0m \u001b[1;33m=\u001b[0m \u001b[1;33m(\u001b[0m\u001b[1;36m120\u001b[0m\u001b[1;33m,\u001b[0m\u001b[1;36m10\u001b[0m\u001b[1;33m)\u001b[0m\u001b[1;33m)\u001b[0m\u001b[1;33m\u001b[0m\u001b[0m\n\u001b[0;32m      5\u001b[0m \u001b[0max\u001b[0m\u001b[1;33m.\u001b[0m\u001b[0mbar\u001b[0m\u001b[1;33m(\u001b[0m\u001b[0mind\u001b[0m\u001b[1;33m,\u001b[0m\u001b[0mNBUser\u001b[0m\u001b[1;33m,\u001b[0m\u001b[0mwidth\u001b[0m\u001b[1;33m,\u001b[0m\u001b[0mcolor\u001b[0m\u001b[1;33m=\u001b[0m\u001b[1;34m'SkyBlue'\u001b[0m\u001b[1;33m)\u001b[0m\u001b[1;33m\u001b[0m\u001b[0m\n",
      "\u001b[1;31mNameError\u001b[0m: name 'np' is not defined"
     ]
    }
   ],
   "source": [
    "ind = np.arange(len(NBRating)) \n",
    "width = 0.7\n",
    "\n",
    "fig, ax = plt.subplots(figsize = (120,10))\n",
    "ax.bar(ind,NBUser,width,color='SkyBlue')\n",
    "ax.set_ylabel('Number of User')\n",
    "ax.set_xlabel('Number of Rating')\n",
    "ax.set_xticks(ind)\n",
    "ax.set_xticklabels(NBRating)\n",
    "ax.legend()  "
   ]
  },
  {
   "cell_type": "markdown",
   "metadata": {},
   "source": [
    "#### save the figure"
   ]
  },
  {
   "cell_type": "code",
   "execution_count": 1,
   "metadata": {},
   "outputs": [
    {
     "ename": "NameError",
     "evalue": "name 'fig' is not defined",
     "output_type": "error",
     "traceback": [
      "\u001b[1;31m---------------------------------------------------------------------------\u001b[0m",
      "\u001b[1;31mNameError\u001b[0m                                 Traceback (most recent call last)",
      "\u001b[1;32m<ipython-input-1-722b43a25638>\u001b[0m in \u001b[0;36m<module>\u001b[1;34m\u001b[0m\n\u001b[1;32m----> 1\u001b[1;33m \u001b[0mfig\u001b[0m\u001b[1;33m.\u001b[0m\u001b[0msavefig\u001b[0m\u001b[1;33m(\u001b[0m\u001b[1;34m'Repartion.png'\u001b[0m\u001b[1;33m)\u001b[0m\u001b[1;33m\u001b[0m\u001b[0m\n\u001b[0m",
      "\u001b[1;31mNameError\u001b[0m: name 'fig' is not defined"
     ]
    }
   ],
   "source": [
    "fig.savefig('Repartion.png')"
   ]
  },
  {
   "cell_type": "code",
   "execution_count": null,
   "metadata": {},
   "outputs": [],
   "source": [
    "dfRepartition = pd.DataFrame({'NBRating' : NBRating, 'NBUser' : NBUser})\n",
    "dfRepartition.to_csv('data/repartition.csv',index =False,sep='\\t')"
   ]
  }
 ],
 "metadata": {
  "kernelspec": {
   "display_name": "Python 3",
   "language": "python",
   "name": "python3"
  },
  "language_info": {
   "codemirror_mode": {
    "name": "ipython",
    "version": 3
   },
   "file_extension": ".py",
   "mimetype": "text/x-python",
   "name": "python",
   "nbconvert_exporter": "python",
   "pygments_lexer": "ipython3",
   "version": "3.6.3"
  }
 },
 "nbformat": 4,
 "nbformat_minor": 2
}
